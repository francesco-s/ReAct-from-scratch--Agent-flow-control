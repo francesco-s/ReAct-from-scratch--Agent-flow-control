{
 "cells": [
  {
   "cell_type": "code",
   "execution_count": 1,
   "id": "6890bdbb-2988-4e64-bfa5-ab092b7f9f24",
   "metadata": {},
   "outputs": [],
   "source": [
    "from dotenv import load_dotenv\n",
    "\n",
    "_ = load_dotenv()"
   ]
  },
  {
   "cell_type": "code",
   "execution_count": 2,
   "id": "1674b7f7-f9bb-4ae0-ab05-590d75328768",
   "metadata": {},
   "outputs": [],
   "source": [
    "from typing import TypedDict, Annotated\n",
    "import operator\n",
    "from langgraph.graph import StateGraph, END\n",
    "from langchain_core.messages import AnyMessage, SystemMessage, HumanMessage, ToolMessage\n",
    "from langchain_openai import ChatOpenAI\n",
    "from langchain_community.tools.tavily_search import TavilySearchResults"
   ]
  },
  {
   "cell_type": "code",
   "execution_count": 3,
   "id": "382f3d10-f5eb-4ad0-b34d-c44c811b9383",
   "metadata": {},
   "outputs": [],
   "source": [
    "tool = TavilySearchResults(max_results=2)"
   ]
  },
  {
   "cell_type": "code",
   "execution_count": 4,
   "id": "38ebefdc-50e9-482e-98d6-99a9dc07bb09",
   "metadata": {},
   "outputs": [],
   "source": [
    "class AgentState(TypedDict):\n",
    "    messages: Annotated[list[AnyMessage], operator.add]"
   ]
  },
  {
   "cell_type": "code",
   "execution_count": 5,
   "id": "a303a81d-9364-4a90-b266-c231884574b9",
   "metadata": {},
   "outputs": [],
   "source": [
    "from langgraph.checkpoint.sqlite import SqliteSaver\n",
    "import sqlite3\n",
    "\n",
    "conn = sqlite3.connect(\":memory:\", check_same_thread=False)  \n",
    "memory = SqliteSaver(conn)"
   ]
  },
  {
   "cell_type": "code",
   "execution_count": 6,
   "id": "15701eee-5175-4a55-b7c4-0da22c02743b",
   "metadata": {},
   "outputs": [],
   "source": [
    "class Agent:\n",
    "    def __init__(self, model, tools, checkpointer, system=\"\"):\n",
    "        self.system = system\n",
    "        graph = StateGraph(AgentState)\n",
    "        graph.add_node(\"llm\", self.call_openai)\n",
    "        graph.add_node(\"action\", self.take_action)\n",
    "        graph.add_conditional_edges(\"llm\", self.exists_action, {True: \"action\", False: END})\n",
    "        graph.add_edge(\"action\", \"llm\")\n",
    "        graph.set_entry_point(\"llm\")\n",
    "        self.graph = graph.compile(checkpointer=checkpointer)\n",
    "        self.tools = {t.name: t for t in tools}\n",
    "        self.model = model.bind_tools(tools)\n",
    "\n",
    "    def call_openai(self, state: AgentState):\n",
    "        messages = state['messages']\n",
    "        if self.system:\n",
    "            messages = [SystemMessage(content=self.system)] + messages\n",
    "        message = self.model.invoke(messages)\n",
    "        return {'messages': [message]}\n",
    "\n",
    "    def exists_action(self, state: AgentState):\n",
    "        print(state)\n",
    "        result = state['messages'][-1]\n",
    "        return len(result.tool_calls) > 0\n",
    "\n",
    "    def take_action(self, state: AgentState):\n",
    "        tool_calls = state['messages'][-1].tool_calls\n",
    "        results = []\n",
    "        for t in tool_calls:\n",
    "            print(f\"Calling: {t}\")\n",
    "            result = self.tools[t['name']].invoke(t['args'])\n",
    "            results.append(ToolMessage(tool_call_id=t['id'], name=t['name'], content=str(result)))\n",
    "        print(\"Back to the model!\")\n",
    "        return {'messages': results}"
   ]
  },
  {
   "cell_type": "code",
   "execution_count": 7,
   "id": "9e03b0f7-c09f-4be7-938c-0436b590b706",
   "metadata": {},
   "outputs": [
    {
     "data": {
      "text/plain": [
       "\"You are a knowledgeable research assistant with access to a search engine. Use it efficiently to find relevant information. Make \\\\ \\nmultiple search queries as needed, either simultaneously or in sequence, to gather accurate results. Only perform searches when you're confident about what you need. If additional information is required before asking follow-up questions, you can initiate further searches to clarify.\""
      ]
     },
     "execution_count": 7,
     "metadata": {},
     "output_type": "execute_result"
    }
   ],
   "source": [
    "prompt = \"\"\"You are a knowledgeable research assistant with access to \\\n",
    "a search engine. Use it efficiently to find relevant information. Make \\ \n",
    "multiple search queries as needed, either simultaneously or in sequence, \\\n",
    "to gather accurate results. Only perform searches when you're confident about what you need. \\\n",
    "If additional information is required before asking follow-up questions, \\\n",
    "you can initiate further searches to clarify.\"\"\"\n",
    "\n",
    "prompt"
   ]
  },
  {
   "cell_type": "code",
   "execution_count": 8,
   "id": "aa58c292-c99e-475e-9b55-cea1711fc061",
   "metadata": {},
   "outputs": [],
   "source": [
    "model = ChatOpenAI(model=\"gpt-4o\")\n",
    "ag = Agent(model, [tool], system=prompt, checkpointer=memory)"
   ]
  },
  {
   "cell_type": "code",
   "execution_count": 9,
   "id": "ab74f873-cf20-4837-9372-628756d71b99",
   "metadata": {},
   "outputs": [
    {
     "data": {
      "image/png": "[encoded data removed]",
      "text/plain": [
       "<IPython.core.display.Image object>"
      ]
     },
     "execution_count": 9,
     "metadata": {},
     "output_type": "execute_result"
    }
   ],
   "source": [
    "from IPython.display import Image\n",
    "\n",
    "Image(ag.graph.get_graph().draw_png())"
   ]
  },
  {
   "cell_type": "code",
   "execution_count": 10,
   "id": "fd5f934a-53b3-44da-92f4-99f4967ae01c",
   "metadata": {},
   "outputs": [],
   "source": [
    "messages = [HumanMessage(content=\"What is the weather like in Taranto?\")]"
   ]
  },
  {
   "cell_type": "code",
   "execution_count": 11,
   "id": "2e55d56e-d6dd-4a3b-9dd1-70f7a6cc7f54",
   "metadata": {},
   "outputs": [],
   "source": [
    "thread = {\"configurable\": {\"thread_id\": \"1\"}}"
   ]
  },
  {
   "cell_type": "code",
   "execution_count": 12,
   "id": "a4421d1f-a799-4eda-88d4-9414bb57cc19",
   "metadata": {},
   "outputs": [
    {
     "name": "stdout",
     "output_type": "stream",
     "text": [
      "{'messages': [HumanMessage(content='What is the weather like in Taranto?', additional_kwargs={}, response_metadata={}), AIMessage(content='', additional_kwargs={'tool_calls': [{'id': 'call_16sC0tHf6JAe4BotHfSLZhQv', 'function': {'arguments': '{\"query\":\"current weather in Taranto\"}', 'name': 'tavily_search_results_json'}, 'type': 'function'}], 'refusal': None}, response_metadata={'token_usage': {'completion_tokens': 22, 'prompt_tokens': 159, 'total_tokens': 181, 'completion_tokens_details': {'reasoning_tokens': 0}}, 'model_name': 'gpt-4o-2024-05-13', 'system_fingerprint': 'fp_25624ae3a5', 'finish_reason': 'tool_calls', 'logprobs': None}, id='run-078e9d95-05e1-4b08-9e55-e6e93e1e84b9-0', tool_calls=[{'name': 'tavily_search_results_json', 'args': {'query': 'current weather in Taranto'}, 'id': 'call_16sC0tHf6JAe4BotHfSLZhQv', 'type': 'tool_call'}], usage_metadata={'input_tokens': 159, 'output_tokens': 22, 'total_tokens': 181})]}\n",
      "[AIMessage(content='', additional_kwargs={'tool_calls': [{'id': 'call_16sC0tHf6JAe4BotHfSLZhQv', 'function': {'arguments': '{\"query\":\"current weather in Taranto\"}', 'name': 'tavily_search_results_json'}, 'type': 'function'}], 'refusal': None}, response_metadata={'token_usage': {'completion_tokens': 22, 'prompt_tokens': 159, 'total_tokens': 181, 'completion_tokens_details': {'reasoning_tokens': 0}}, 'model_name': 'gpt-4o-2024-05-13', 'system_fingerprint': 'fp_25624ae3a5', 'finish_reason': 'tool_calls', 'logprobs': None}, id='run-078e9d95-05e1-4b08-9e55-e6e93e1e84b9-0', tool_calls=[{'name': 'tavily_search_results_json', 'args': {'query': 'current weather in Taranto'}, 'id': 'call_16sC0tHf6JAe4BotHfSLZhQv', 'type': 'tool_call'}], usage_metadata={'input_tokens': 159, 'output_tokens': 22, 'total_tokens': 181})]\n",
      "Calling: {'name': 'tavily_search_results_json', 'args': {'query': 'current weather in Taranto'}, 'id': 'call_16sC0tHf6JAe4BotHfSLZhQv', 'type': 'tool_call'}\n",
      "Back to the model!\n",
      "[ToolMessage(content='[{\\'url\\': \\'https://www.weatherapi.com/\\', \\'content\\': \"{\\'location\\': {\\'name\\': \\'Taranto\\', \\'region\\': \\'Puglia\\', \\'country\\': \\'Italy\\', \\'lat\\': 40.48, \\'lon\\': 17.23, \\'tz_id\\': \\'Europe/Rome\\', \\'localtime_epoch\\': 1726472488, \\'localtime\\': \\'2024-09-16 09:41\\'}, \\'current\\': {\\'last_updated_epoch\\': 1726471800, \\'last_updated\\': \\'2024-09-16 09:30\\', \\'temp_c\\': 19.3, \\'temp_f\\': 66.7, \\'is_day\\': 1, \\'condition\\': {\\'text\\': \\'Partly cloudy\\', \\'icon\\': \\'//cdn.weatherapi.com/weather/64x64/day/116.png\\', \\'code\\': 1003}, \\'wind_mph\\': 14.5, \\'wind_kph\\': 23.4, \\'wind_degree\\': 322, \\'wind_dir\\': \\'NW\\', \\'pressure_mb\\': 1011.0, \\'pressure_in\\': 29.85, \\'precip_mm\\': 0.01, \\'precip_in\\': 0.0, \\'humidity\\': 64, \\'cloud\\': 25, \\'feelslike_c\\': 19.3, \\'feelslike_f\\': 66.7, \\'windchill_c\\': 21.2, \\'windchill_f\\': 70.1, \\'heatindex_c\\': 24.3, \\'heatindex_f\\': 75.7, \\'dewpoint_c\\': 10.2, \\'dewpoint_f\\': 50.3, \\'vis_km\\': 10.0, \\'vis_miles\\': 6.0, \\'uv\\': 5.0, \\'gust_mph\\': 16.7, \\'gust_kph\\': 26.9}}\"}, {\\'url\\': \\'https://world-weather.info/forecast/italy/taranto/16-september/\\', \\'content\\': \\'Detailed ⚡ Weather Forecast for September 16 in Taranto, Apulia, Italy - 🌡️ temperature, wind, atmospheric pressure, humidity and precipitations - World-Weather.info ... September 16, 2024 . Weather Forecast is not ready yet. September 16, 2023 : Atmospheric conditions ... Hourly forecast for 16.09.2023. September 16, 2022 : Atmospheric ...\\'}]', name='tavily_search_results_json', tool_call_id='call_16sC0tHf6JAe4BotHfSLZhQv')]\n",
      "{'messages': [HumanMessage(content='What is the weather like in Taranto?', additional_kwargs={}, response_metadata={}), AIMessage(content='', additional_kwargs={'tool_calls': [{'id': 'call_16sC0tHf6JAe4BotHfSLZhQv', 'function': {'arguments': '{\"query\":\"current weather in Taranto\"}', 'name': 'tavily_search_results_json'}, 'type': 'function'}], 'refusal': None}, response_metadata={'token_usage': {'completion_tokens': 22, 'prompt_tokens': 159, 'total_tokens': 181, 'completion_tokens_details': {'reasoning_tokens': 0}}, 'model_name': 'gpt-4o-2024-05-13', 'system_fingerprint': 'fp_25624ae3a5', 'finish_reason': 'tool_calls', 'logprobs': None}, id='run-078e9d95-05e1-4b08-9e55-e6e93e1e84b9-0', tool_calls=[{'name': 'tavily_search_results_json', 'args': {'query': 'current weather in Taranto'}, 'id': 'call_16sC0tHf6JAe4BotHfSLZhQv', 'type': 'tool_call'}], usage_metadata={'input_tokens': 159, 'output_tokens': 22, 'total_tokens': 181}), ToolMessage(content='[{\\'url\\': \\'https://www.weatherapi.com/\\', \\'content\\': \"{\\'location\\': {\\'name\\': \\'Taranto\\', \\'region\\': \\'Puglia\\', \\'country\\': \\'Italy\\', \\'lat\\': 40.48, \\'lon\\': 17.23, \\'tz_id\\': \\'Europe/Rome\\', \\'localtime_epoch\\': 1726472488, \\'localtime\\': \\'2024-09-16 09:41\\'}, \\'current\\': {\\'last_updated_epoch\\': 1726471800, \\'last_updated\\': \\'2024-09-16 09:30\\', \\'temp_c\\': 19.3, \\'temp_f\\': 66.7, \\'is_day\\': 1, \\'condition\\': {\\'text\\': \\'Partly cloudy\\', \\'icon\\': \\'//cdn.weatherapi.com/weather/64x64/day/116.png\\', \\'code\\': 1003}, \\'wind_mph\\': 14.5, \\'wind_kph\\': 23.4, \\'wind_degree\\': 322, \\'wind_dir\\': \\'NW\\', \\'pressure_mb\\': 1011.0, \\'pressure_in\\': 29.85, \\'precip_mm\\': 0.01, \\'precip_in\\': 0.0, \\'humidity\\': 64, \\'cloud\\': 25, \\'feelslike_c\\': 19.3, \\'feelslike_f\\': 66.7, \\'windchill_c\\': 21.2, \\'windchill_f\\': 70.1, \\'heatindex_c\\': 24.3, \\'heatindex_f\\': 75.7, \\'dewpoint_c\\': 10.2, \\'dewpoint_f\\': 50.3, \\'vis_km\\': 10.0, \\'vis_miles\\': 6.0, \\'uv\\': 5.0, \\'gust_mph\\': 16.7, \\'gust_kph\\': 26.9}}\"}, {\\'url\\': \\'https://world-weather.info/forecast/italy/taranto/16-september/\\', \\'content\\': \\'Detailed ⚡ Weather Forecast for September 16 in Taranto, Apulia, Italy - 🌡️ temperature, wind, atmospheric pressure, humidity and precipitations - World-Weather.info ... September 16, 2024 . Weather Forecast is not ready yet. September 16, 2023 : Atmospheric conditions ... Hourly forecast for 16.09.2023. September 16, 2022 : Atmospheric ...\\'}]', name='tavily_search_results_json', tool_call_id='call_16sC0tHf6JAe4BotHfSLZhQv'), AIMessage(content='The current weather in Taranto, Italy is as follows:\\n- **Temperature:** 19.3°C (66.7°F)\\n- **Condition:** Partly cloudy\\n- **Wind:** 23.4 kph (14.5 mph) from the northwest\\n- **Humidity:** 64%\\n- **Pressure:** 1011.0 mb\\n- **Visibility:** 10 km\\n- **UV Index:** 5\\n\\n![Partly cloudy](//cdn.weatherapi.com/weather/64x64/day/116.png)', additional_kwargs={'refusal': None}, response_metadata={'token_usage': {'completion_tokens': 110, 'prompt_tokens': 707, 'total_tokens': 817, 'completion_tokens_details': {'reasoning_tokens': 0}}, 'model_name': 'gpt-4o-2024-05-13', 'system_fingerprint': 'fp_25624ae3a5', 'finish_reason': 'stop', 'logprobs': None}, id='run-3a85c507-bd98-4ea3-8861-e49d08c482ee-0', usage_metadata={'input_tokens': 707, 'output_tokens': 110, 'total_tokens': 817})]}\n",
      "[AIMessage(content='The current weather in Taranto, Italy is as follows:\\n- **Temperature:** 19.3°C (66.7°F)\\n- **Condition:** Partly cloudy\\n- **Wind:** 23.4 kph (14.5 mph) from the northwest\\n- **Humidity:** 64%\\n- **Pressure:** 1011.0 mb\\n- **Visibility:** 10 km\\n- **UV Index:** 5\\n\\n![Partly cloudy](//cdn.weatherapi.com/weather/64x64/day/116.png)', additional_kwargs={'refusal': None}, response_metadata={'token_usage': {'completion_tokens': 110, 'prompt_tokens': 707, 'total_tokens': 817, 'completion_tokens_details': {'reasoning_tokens': 0}}, 'model_name': 'gpt-4o-2024-05-13', 'system_fingerprint': 'fp_25624ae3a5', 'finish_reason': 'stop', 'logprobs': None}, id='run-3a85c507-bd98-4ea3-8861-e49d08c482ee-0', usage_metadata={'input_tokens': 707, 'output_tokens': 110, 'total_tokens': 817})]\n"
     ]
    }
   ],
   "source": [
    "for event in ag.graph.stream({\"messages\": messages}, thread):\n",
    "    for v in event.values():\n",
    "        print(v['messages'])"
   ]
  },
  {
   "cell_type": "code",
   "execution_count": 13,
   "id": "3af8d6ac-d2b8-41f3-8c16-73fc7ad8d942",
   "metadata": {},
   "outputs": [
    {
     "name": "stdout",
     "output_type": "stream",
     "text": [
      "{'messages': [HumanMessage(content='What is the weather like in Taranto?', additional_kwargs={}, response_metadata={}), AIMessage(content='', additional_kwargs={'tool_calls': [{'id': 'call_16sC0tHf6JAe4BotHfSLZhQv', 'function': {'arguments': '{\"query\":\"current weather in Taranto\"}', 'name': 'tavily_search_results_json'}, 'type': 'function'}], 'refusal': None}, response_metadata={'token_usage': {'completion_tokens': 22, 'prompt_tokens': 159, 'total_tokens': 181, 'completion_tokens_details': {'reasoning_tokens': 0}}, 'model_name': 'gpt-4o-2024-05-13', 'system_fingerprint': 'fp_25624ae3a5', 'finish_reason': 'tool_calls', 'logprobs': None}, id='run-078e9d95-05e1-4b08-9e55-e6e93e1e84b9-0', tool_calls=[{'name': 'tavily_search_results_json', 'args': {'query': 'current weather in Taranto'}, 'id': 'call_16sC0tHf6JAe4BotHfSLZhQv', 'type': 'tool_call'}], usage_metadata={'input_tokens': 159, 'output_tokens': 22, 'total_tokens': 181}), ToolMessage(content='[{\\'url\\': \\'https://www.weatherapi.com/\\', \\'content\\': \"{\\'location\\': {\\'name\\': \\'Taranto\\', \\'region\\': \\'Puglia\\', \\'country\\': \\'Italy\\', \\'lat\\': 40.48, \\'lon\\': 17.23, \\'tz_id\\': \\'Europe/Rome\\', \\'localtime_epoch\\': 1726472488, \\'localtime\\': \\'2024-09-16 09:41\\'}, \\'current\\': {\\'last_updated_epoch\\': 1726471800, \\'last_updated\\': \\'2024-09-16 09:30\\', \\'temp_c\\': 19.3, \\'temp_f\\': 66.7, \\'is_day\\': 1, \\'condition\\': {\\'text\\': \\'Partly cloudy\\', \\'icon\\': \\'//cdn.weatherapi.com/weather/64x64/day/116.png\\', \\'code\\': 1003}, \\'wind_mph\\': 14.5, \\'wind_kph\\': 23.4, \\'wind_degree\\': 322, \\'wind_dir\\': \\'NW\\', \\'pressure_mb\\': 1011.0, \\'pressure_in\\': 29.85, \\'precip_mm\\': 0.01, \\'precip_in\\': 0.0, \\'humidity\\': 64, \\'cloud\\': 25, \\'feelslike_c\\': 19.3, \\'feelslike_f\\': 66.7, \\'windchill_c\\': 21.2, \\'windchill_f\\': 70.1, \\'heatindex_c\\': 24.3, \\'heatindex_f\\': 75.7, \\'dewpoint_c\\': 10.2, \\'dewpoint_f\\': 50.3, \\'vis_km\\': 10.0, \\'vis_miles\\': 6.0, \\'uv\\': 5.0, \\'gust_mph\\': 16.7, \\'gust_kph\\': 26.9}}\"}, {\\'url\\': \\'https://world-weather.info/forecast/italy/taranto/16-september/\\', \\'content\\': \\'Detailed ⚡ Weather Forecast for September 16 in Taranto, Apulia, Italy - 🌡️ temperature, wind, atmospheric pressure, humidity and precipitations - World-Weather.info ... September 16, 2024 . Weather Forecast is not ready yet. September 16, 2023 : Atmospheric conditions ... Hourly forecast for 16.09.2023. September 16, 2022 : Atmospheric ...\\'}]', name='tavily_search_results_json', tool_call_id='call_16sC0tHf6JAe4BotHfSLZhQv'), AIMessage(content='The current weather in Taranto, Italy is as follows:\\n- **Temperature:** 19.3°C (66.7°F)\\n- **Condition:** Partly cloudy\\n- **Wind:** 23.4 kph (14.5 mph) from the northwest\\n- **Humidity:** 64%\\n- **Pressure:** 1011.0 mb\\n- **Visibility:** 10 km\\n- **UV Index:** 5\\n\\n![Partly cloudy](//cdn.weatherapi.com/weather/64x64/day/116.png)', additional_kwargs={'refusal': None}, response_metadata={'token_usage': {'completion_tokens': 110, 'prompt_tokens': 707, 'total_tokens': 817, 'completion_tokens_details': {'reasoning_tokens': 0}}, 'model_name': 'gpt-4o-2024-05-13', 'system_fingerprint': 'fp_25624ae3a5', 'finish_reason': 'stop', 'logprobs': None}, id='run-3a85c507-bd98-4ea3-8861-e49d08c482ee-0', usage_metadata={'input_tokens': 707, 'output_tokens': 110, 'total_tokens': 817}), HumanMessage(content='What about in Martina Franca?', additional_kwargs={}, response_metadata={}), AIMessage(content='', additional_kwargs={'tool_calls': [{'id': 'call_CXT9KjT4giY2XZwGpq39scOo', 'function': {'arguments': '{\"query\":\"current weather in Martina Franca\"}', 'name': 'tavily_search_results_json'}, 'type': 'function'}], 'refusal': None}, response_metadata={'token_usage': {'completion_tokens': 23, 'prompt_tokens': 831, 'total_tokens': 854, 'completion_tokens_details': {'reasoning_tokens': 0}}, 'model_name': 'gpt-4o-2024-05-13', 'system_fingerprint': 'fp_25624ae3a5', 'finish_reason': 'tool_calls', 'logprobs': None}, id='run-f137b18d-2230-4992-8679-20009ddaa650-0', tool_calls=[{'name': 'tavily_search_results_json', 'args': {'query': 'current weather in Martina Franca'}, 'id': 'call_CXT9KjT4giY2XZwGpq39scOo', 'type': 'tool_call'}], usage_metadata={'input_tokens': 831, 'output_tokens': 23, 'total_tokens': 854})]}\n",
      "{'messages': [AIMessage(content='', additional_kwargs={'tool_calls': [{'id': 'call_CXT9KjT4giY2XZwGpq39scOo', 'function': {'arguments': '{\"query\":\"current weather in Martina Franca\"}', 'name': 'tavily_search_results_json'}, 'type': 'function'}], 'refusal': None}, response_metadata={'token_usage': {'completion_tokens': 23, 'prompt_tokens': 831, 'total_tokens': 854, 'completion_tokens_details': {'reasoning_tokens': 0}}, 'model_name': 'gpt-4o-2024-05-13', 'system_fingerprint': 'fp_25624ae3a5', 'finish_reason': 'tool_calls', 'logprobs': None}, id='run-f137b18d-2230-4992-8679-20009ddaa650-0', tool_calls=[{'name': 'tavily_search_results_json', 'args': {'query': 'current weather in Martina Franca'}, 'id': 'call_CXT9KjT4giY2XZwGpq39scOo', 'type': 'tool_call'}], usage_metadata={'input_tokens': 831, 'output_tokens': 23, 'total_tokens': 854})]}\n",
      "Calling: {'name': 'tavily_search_results_json', 'args': {'query': 'current weather in Martina Franca'}, 'id': 'call_CXT9KjT4giY2XZwGpq39scOo', 'type': 'tool_call'}\n",
      "Back to the model!\n",
      "{'messages': [ToolMessage(content='[{\\'url\\': \\'https://www.weatherapi.com/\\', \\'content\\': \"{\\'location\\': {\\'name\\': \\'Martina Franca\\', \\'region\\': \\'Puglia\\', \\'country\\': \\'Italy\\', \\'lat\\': 40.7, \\'lon\\': 17.33, \\'tz_id\\': \\'Europe/Rome\\', \\'localtime_epoch\\': 1726472494, \\'localtime\\': \\'2024-09-16 09:41\\'}, \\'current\\': {\\'last_updated_epoch\\': 1726471800, \\'last_updated\\': \\'2024-09-16 09:30\\', \\'temp_c\\': 19.3, \\'temp_f\\': 66.7, \\'is_day\\': 1, \\'condition\\': {\\'text\\': \\'Partly cloudy\\', \\'icon\\': \\'//cdn.weatherapi.com/weather/64x64/day/116.png\\', \\'code\\': 1003}, \\'wind_mph\\': 17.4, \\'wind_kph\\': 28.1, \\'wind_degree\\': 318, \\'wind_dir\\': \\'NW\\', \\'pressure_mb\\': 1011.0, \\'pressure_in\\': 29.85, \\'precip_mm\\': 0.0, \\'precip_in\\': 0.0, \\'humidity\\': 64, \\'cloud\\': 25, \\'feelslike_c\\': 19.3, \\'feelslike_f\\': 66.7, \\'windchill_c\\': 20.6, \\'windchill_f\\': 69.0, \\'heatindex_c\\': 20.6, \\'heatindex_f\\': 69.0, \\'dewpoint_c\\': 10.1, \\'dewpoint_f\\': 50.2, \\'vis_km\\': 10.0, \\'vis_miles\\': 6.0, \\'uv\\': 6.0, \\'gust_mph\\': 20.1, \\'gust_kph\\': 32.3}}\"}, {\\'url\\': \\'https://www.meteoblue.com/en/weather/week/martina-franca_italy_3173841\\', \\'content\\': \\'Weather Martina Franca - meteoblue Weather Maps Weather Maps Widget 3h Weather Widget Weather News °F Weather Martina Franca 61 °F 8 mph 18:35 This addition further enhances our forecast data calculation, weather maps, and MultiModel. Wind direction and wind speed Precipitation amount Sunshine hours Predictability shows if the forecast is reliable , a bit uncertain , or is likely to change . Sun Today   65 °F 56 °F 15 mph - 4 h Temperature (°F) The weather forecast has very high predictability. The weather forecast for Martina Franca for Sunday is expected to be very accurate. More Weather Maps Hourly weather forecast for Martina Franca This addition further enhances our forecast data calculation, weather maps, and MultiModel. More weather data Weather Forecast Weather Maps Weather Apps\\'}]', name='tavily_search_results_json', tool_call_id='call_CXT9KjT4giY2XZwGpq39scOo')]}\n",
      "{'messages': [HumanMessage(content='What is the weather like in Taranto?', additional_kwargs={}, response_metadata={}), AIMessage(content='', additional_kwargs={'tool_calls': [{'id': 'call_16sC0tHf6JAe4BotHfSLZhQv', 'function': {'arguments': '{\"query\":\"current weather in Taranto\"}', 'name': 'tavily_search_results_json'}, 'type': 'function'}], 'refusal': None}, response_metadata={'token_usage': {'completion_tokens': 22, 'prompt_tokens': 159, 'total_tokens': 181, 'completion_tokens_details': {'reasoning_tokens': 0}}, 'model_name': 'gpt-4o-2024-05-13', 'system_fingerprint': 'fp_25624ae3a5', 'finish_reason': 'tool_calls', 'logprobs': None}, id='run-078e9d95-05e1-4b08-9e55-e6e93e1e84b9-0', tool_calls=[{'name': 'tavily_search_results_json', 'args': {'query': 'current weather in Taranto'}, 'id': 'call_16sC0tHf6JAe4BotHfSLZhQv', 'type': 'tool_call'}], usage_metadata={'input_tokens': 159, 'output_tokens': 22, 'total_tokens': 181}), ToolMessage(content='[{\\'url\\': \\'https://www.weatherapi.com/\\', \\'content\\': \"{\\'location\\': {\\'name\\': \\'Taranto\\', \\'region\\': \\'Puglia\\', \\'country\\': \\'Italy\\', \\'lat\\': 40.48, \\'lon\\': 17.23, \\'tz_id\\': \\'Europe/Rome\\', \\'localtime_epoch\\': 1726472488, \\'localtime\\': \\'2024-09-16 09:41\\'}, \\'current\\': {\\'last_updated_epoch\\': 1726471800, \\'last_updated\\': \\'2024-09-16 09:30\\', \\'temp_c\\': 19.3, \\'temp_f\\': 66.7, \\'is_day\\': 1, \\'condition\\': {\\'text\\': \\'Partly cloudy\\', \\'icon\\': \\'//cdn.weatherapi.com/weather/64x64/day/116.png\\', \\'code\\': 1003}, \\'wind_mph\\': 14.5, \\'wind_kph\\': 23.4, \\'wind_degree\\': 322, \\'wind_dir\\': \\'NW\\', \\'pressure_mb\\': 1011.0, \\'pressure_in\\': 29.85, \\'precip_mm\\': 0.01, \\'precip_in\\': 0.0, \\'humidity\\': 64, \\'cloud\\': 25, \\'feelslike_c\\': 19.3, \\'feelslike_f\\': 66.7, \\'windchill_c\\': 21.2, \\'windchill_f\\': 70.1, \\'heatindex_c\\': 24.3, \\'heatindex_f\\': 75.7, \\'dewpoint_c\\': 10.2, \\'dewpoint_f\\': 50.3, \\'vis_km\\': 10.0, \\'vis_miles\\': 6.0, \\'uv\\': 5.0, \\'gust_mph\\': 16.7, \\'gust_kph\\': 26.9}}\"}, {\\'url\\': \\'https://world-weather.info/forecast/italy/taranto/16-september/\\', \\'content\\': \\'Detailed ⚡ Weather Forecast for September 16 in Taranto, Apulia, Italy - 🌡️ temperature, wind, atmospheric pressure, humidity and precipitations - World-Weather.info ... September 16, 2024 . Weather Forecast is not ready yet. September 16, 2023 : Atmospheric conditions ... Hourly forecast for 16.09.2023. September 16, 2022 : Atmospheric ...\\'}]', name='tavily_search_results_json', tool_call_id='call_16sC0tHf6JAe4BotHfSLZhQv'), AIMessage(content='The current weather in Taranto, Italy is as follows:\\n- **Temperature:** 19.3°C (66.7°F)\\n- **Condition:** Partly cloudy\\n- **Wind:** 23.4 kph (14.5 mph) from the northwest\\n- **Humidity:** 64%\\n- **Pressure:** 1011.0 mb\\n- **Visibility:** 10 km\\n- **UV Index:** 5\\n\\n![Partly cloudy](//cdn.weatherapi.com/weather/64x64/day/116.png)', additional_kwargs={'refusal': None}, response_metadata={'token_usage': {'completion_tokens': 110, 'prompt_tokens': 707, 'total_tokens': 817, 'completion_tokens_details': {'reasoning_tokens': 0}}, 'model_name': 'gpt-4o-2024-05-13', 'system_fingerprint': 'fp_25624ae3a5', 'finish_reason': 'stop', 'logprobs': None}, id='run-3a85c507-bd98-4ea3-8861-e49d08c482ee-0', usage_metadata={'input_tokens': 707, 'output_tokens': 110, 'total_tokens': 817}), HumanMessage(content='What about in Martina Franca?', additional_kwargs={}, response_metadata={}), AIMessage(content='', additional_kwargs={'tool_calls': [{'id': 'call_CXT9KjT4giY2XZwGpq39scOo', 'function': {'arguments': '{\"query\":\"current weather in Martina Franca\"}', 'name': 'tavily_search_results_json'}, 'type': 'function'}], 'refusal': None}, response_metadata={'token_usage': {'completion_tokens': 23, 'prompt_tokens': 831, 'total_tokens': 854, 'completion_tokens_details': {'reasoning_tokens': 0}}, 'model_name': 'gpt-4o-2024-05-13', 'system_fingerprint': 'fp_25624ae3a5', 'finish_reason': 'tool_calls', 'logprobs': None}, id='run-f137b18d-2230-4992-8679-20009ddaa650-0', tool_calls=[{'name': 'tavily_search_results_json', 'args': {'query': 'current weather in Martina Franca'}, 'id': 'call_CXT9KjT4giY2XZwGpq39scOo', 'type': 'tool_call'}], usage_metadata={'input_tokens': 831, 'output_tokens': 23, 'total_tokens': 854}), ToolMessage(content='[{\\'url\\': \\'https://www.weatherapi.com/\\', \\'content\\': \"{\\'location\\': {\\'name\\': \\'Martina Franca\\', \\'region\\': \\'Puglia\\', \\'country\\': \\'Italy\\', \\'lat\\': 40.7, \\'lon\\': 17.33, \\'tz_id\\': \\'Europe/Rome\\', \\'localtime_epoch\\': 1726472494, \\'localtime\\': \\'2024-09-16 09:41\\'}, \\'current\\': {\\'last_updated_epoch\\': 1726471800, \\'last_updated\\': \\'2024-09-16 09:30\\', \\'temp_c\\': 19.3, \\'temp_f\\': 66.7, \\'is_day\\': 1, \\'condition\\': {\\'text\\': \\'Partly cloudy\\', \\'icon\\': \\'//cdn.weatherapi.com/weather/64x64/day/116.png\\', \\'code\\': 1003}, \\'wind_mph\\': 17.4, \\'wind_kph\\': 28.1, \\'wind_degree\\': 318, \\'wind_dir\\': \\'NW\\', \\'pressure_mb\\': 1011.0, \\'pressure_in\\': 29.85, \\'precip_mm\\': 0.0, \\'precip_in\\': 0.0, \\'humidity\\': 64, \\'cloud\\': 25, \\'feelslike_c\\': 19.3, \\'feelslike_f\\': 66.7, \\'windchill_c\\': 20.6, \\'windchill_f\\': 69.0, \\'heatindex_c\\': 20.6, \\'heatindex_f\\': 69.0, \\'dewpoint_c\\': 10.1, \\'dewpoint_f\\': 50.2, \\'vis_km\\': 10.0, \\'vis_miles\\': 6.0, \\'uv\\': 6.0, \\'gust_mph\\': 20.1, \\'gust_kph\\': 32.3}}\"}, {\\'url\\': \\'https://www.meteoblue.com/en/weather/week/martina-franca_italy_3173841\\', \\'content\\': \\'Weather Martina Franca - meteoblue Weather Maps Weather Maps Widget 3h Weather Widget Weather News °F Weather Martina Franca 61 °F 8 mph 18:35 This addition further enhances our forecast data calculation, weather maps, and MultiModel. Wind direction and wind speed Precipitation amount Sunshine hours Predictability shows if the forecast is reliable , a bit uncertain , or is likely to change . Sun Today   65 °F 56 °F 15 mph - 4 h Temperature (°F) The weather forecast has very high predictability. The weather forecast for Martina Franca for Sunday is expected to be very accurate. More Weather Maps Hourly weather forecast for Martina Franca This addition further enhances our forecast data calculation, weather maps, and MultiModel. More weather data Weather Forecast Weather Maps Weather Apps\\'}]', name='tavily_search_results_json', tool_call_id='call_CXT9KjT4giY2XZwGpq39scOo'), AIMessage(content='The current weather in Martina Franca, Italy is as follows:\\n- **Temperature:** 19.3°C (66.7°F)\\n- **Condition:** Partly cloudy\\n- **Wind:** 28.1 kph (17.4 mph) from the northwest\\n- **Humidity:** 64%\\n- **Pressure:** 1011.0 mb\\n- **Visibility:** 10 km\\n- **UV Index:** 6\\n\\n![Partly cloudy](//cdn.weatherapi.com/weather/64x64/day/116.png)', additional_kwargs={'refusal': None}, response_metadata={'token_usage': {'completion_tokens': 111, 'prompt_tokens': 1469, 'total_tokens': 1580, 'completion_tokens_details': {'reasoning_tokens': 0}}, 'model_name': 'gpt-4o-2024-05-13', 'system_fingerprint': 'fp_25624ae3a5', 'finish_reason': 'stop', 'logprobs': None}, id='run-586a4dd3-1218-4906-9428-9a9b4d548475-0', usage_metadata={'input_tokens': 1469, 'output_tokens': 111, 'total_tokens': 1580})]}\n",
      "{'messages': [AIMessage(content='The current weather in Martina Franca, Italy is as follows:\\n- **Temperature:** 19.3°C (66.7°F)\\n- **Condition:** Partly cloudy\\n- **Wind:** 28.1 kph (17.4 mph) from the northwest\\n- **Humidity:** 64%\\n- **Pressure:** 1011.0 mb\\n- **Visibility:** 10 km\\n- **UV Index:** 6\\n\\n![Partly cloudy](//cdn.weatherapi.com/weather/64x64/day/116.png)', additional_kwargs={'refusal': None}, response_metadata={'token_usage': {'completion_tokens': 111, 'prompt_tokens': 1469, 'total_tokens': 1580, 'completion_tokens_details': {'reasoning_tokens': 0}}, 'model_name': 'gpt-4o-2024-05-13', 'system_fingerprint': 'fp_25624ae3a5', 'finish_reason': 'stop', 'logprobs': None}, id='run-586a4dd3-1218-4906-9428-9a9b4d548475-0', usage_metadata={'input_tokens': 1469, 'output_tokens': 111, 'total_tokens': 1580})]}\n"
     ]
    }
   ],
   "source": [
    "messages = [HumanMessage(content=\"What about in Martina Franca?\")]\n",
    "thread = {\"configurable\": {\"thread_id\": \"1\"}}\n",
    "for event in ag.graph.stream({\"messages\": messages}, thread):\n",
    "    for v in event.values():\n",
    "        print(v)"
   ]
  },
  {
   "cell_type": "code",
   "execution_count": 14,
   "id": "5a28c6c4-e5cf-4060-b797-701088745e3d",
   "metadata": {},
   "outputs": [
    {
     "name": "stdout",
     "output_type": "stream",
     "text": [
      "{'messages': [HumanMessage(content='What is the weather like in Taranto?', additional_kwargs={}, response_metadata={}), AIMessage(content='', additional_kwargs={'tool_calls': [{'id': 'call_16sC0tHf6JAe4BotHfSLZhQv', 'function': {'arguments': '{\"query\":\"current weather in Taranto\"}', 'name': 'tavily_search_results_json'}, 'type': 'function'}], 'refusal': None}, response_metadata={'token_usage': {'completion_tokens': 22, 'prompt_tokens': 159, 'total_tokens': 181, 'completion_tokens_details': {'reasoning_tokens': 0}}, 'model_name': 'gpt-4o-2024-05-13', 'system_fingerprint': 'fp_25624ae3a5', 'finish_reason': 'tool_calls', 'logprobs': None}, id='run-078e9d95-05e1-4b08-9e55-e6e93e1e84b9-0', tool_calls=[{'name': 'tavily_search_results_json', 'args': {'query': 'current weather in Taranto'}, 'id': 'call_16sC0tHf6JAe4BotHfSLZhQv', 'type': 'tool_call'}], usage_metadata={'input_tokens': 159, 'output_tokens': 22, 'total_tokens': 181}), ToolMessage(content='[{\\'url\\': \\'https://www.weatherapi.com/\\', \\'content\\': \"{\\'location\\': {\\'name\\': \\'Taranto\\', \\'region\\': \\'Puglia\\', \\'country\\': \\'Italy\\', \\'lat\\': 40.48, \\'lon\\': 17.23, \\'tz_id\\': \\'Europe/Rome\\', \\'localtime_epoch\\': 1726472488, \\'localtime\\': \\'2024-09-16 09:41\\'}, \\'current\\': {\\'last_updated_epoch\\': 1726471800, \\'last_updated\\': \\'2024-09-16 09:30\\', \\'temp_c\\': 19.3, \\'temp_f\\': 66.7, \\'is_day\\': 1, \\'condition\\': {\\'text\\': \\'Partly cloudy\\', \\'icon\\': \\'//cdn.weatherapi.com/weather/64x64/day/116.png\\', \\'code\\': 1003}, \\'wind_mph\\': 14.5, \\'wind_kph\\': 23.4, \\'wind_degree\\': 322, \\'wind_dir\\': \\'NW\\', \\'pressure_mb\\': 1011.0, \\'pressure_in\\': 29.85, \\'precip_mm\\': 0.01, \\'precip_in\\': 0.0, \\'humidity\\': 64, \\'cloud\\': 25, \\'feelslike_c\\': 19.3, \\'feelslike_f\\': 66.7, \\'windchill_c\\': 21.2, \\'windchill_f\\': 70.1, \\'heatindex_c\\': 24.3, \\'heatindex_f\\': 75.7, \\'dewpoint_c\\': 10.2, \\'dewpoint_f\\': 50.3, \\'vis_km\\': 10.0, \\'vis_miles\\': 6.0, \\'uv\\': 5.0, \\'gust_mph\\': 16.7, \\'gust_kph\\': 26.9}}\"}, {\\'url\\': \\'https://world-weather.info/forecast/italy/taranto/16-september/\\', \\'content\\': \\'Detailed ⚡ Weather Forecast for September 16 in Taranto, Apulia, Italy - 🌡️ temperature, wind, atmospheric pressure, humidity and precipitations - World-Weather.info ... September 16, 2024 . Weather Forecast is not ready yet. September 16, 2023 : Atmospheric conditions ... Hourly forecast for 16.09.2023. September 16, 2022 : Atmospheric ...\\'}]', name='tavily_search_results_json', tool_call_id='call_16sC0tHf6JAe4BotHfSLZhQv'), AIMessage(content='The current weather in Taranto, Italy is as follows:\\n- **Temperature:** 19.3°C (66.7°F)\\n- **Condition:** Partly cloudy\\n- **Wind:** 23.4 kph (14.5 mph) from the northwest\\n- **Humidity:** 64%\\n- **Pressure:** 1011.0 mb\\n- **Visibility:** 10 km\\n- **UV Index:** 5\\n\\n![Partly cloudy](//cdn.weatherapi.com/weather/64x64/day/116.png)', additional_kwargs={'refusal': None}, response_metadata={'token_usage': {'completion_tokens': 110, 'prompt_tokens': 707, 'total_tokens': 817, 'completion_tokens_details': {'reasoning_tokens': 0}}, 'model_name': 'gpt-4o-2024-05-13', 'system_fingerprint': 'fp_25624ae3a5', 'finish_reason': 'stop', 'logprobs': None}, id='run-3a85c507-bd98-4ea3-8861-e49d08c482ee-0', usage_metadata={'input_tokens': 707, 'output_tokens': 110, 'total_tokens': 817}), HumanMessage(content='What about in Martina Franca?', additional_kwargs={}, response_metadata={}), AIMessage(content='', additional_kwargs={'tool_calls': [{'id': 'call_CXT9KjT4giY2XZwGpq39scOo', 'function': {'arguments': '{\"query\":\"current weather in Martina Franca\"}', 'name': 'tavily_search_results_json'}, 'type': 'function'}], 'refusal': None}, response_metadata={'token_usage': {'completion_tokens': 23, 'prompt_tokens': 831, 'total_tokens': 854, 'completion_tokens_details': {'reasoning_tokens': 0}}, 'model_name': 'gpt-4o-2024-05-13', 'system_fingerprint': 'fp_25624ae3a5', 'finish_reason': 'tool_calls', 'logprobs': None}, id='run-f137b18d-2230-4992-8679-20009ddaa650-0', tool_calls=[{'name': 'tavily_search_results_json', 'args': {'query': 'current weather in Martina Franca'}, 'id': 'call_CXT9KjT4giY2XZwGpq39scOo', 'type': 'tool_call'}], usage_metadata={'input_tokens': 831, 'output_tokens': 23, 'total_tokens': 854}), ToolMessage(content='[{\\'url\\': \\'https://www.weatherapi.com/\\', \\'content\\': \"{\\'location\\': {\\'name\\': \\'Martina Franca\\', \\'region\\': \\'Puglia\\', \\'country\\': \\'Italy\\', \\'lat\\': 40.7, \\'lon\\': 17.33, \\'tz_id\\': \\'Europe/Rome\\', \\'localtime_epoch\\': 1726472494, \\'localtime\\': \\'2024-09-16 09:41\\'}, \\'current\\': {\\'last_updated_epoch\\': 1726471800, \\'last_updated\\': \\'2024-09-16 09:30\\', \\'temp_c\\': 19.3, \\'temp_f\\': 66.7, \\'is_day\\': 1, \\'condition\\': {\\'text\\': \\'Partly cloudy\\', \\'icon\\': \\'//cdn.weatherapi.com/weather/64x64/day/116.png\\', \\'code\\': 1003}, \\'wind_mph\\': 17.4, \\'wind_kph\\': 28.1, \\'wind_degree\\': 318, \\'wind_dir\\': \\'NW\\', \\'pressure_mb\\': 1011.0, \\'pressure_in\\': 29.85, \\'precip_mm\\': 0.0, \\'precip_in\\': 0.0, \\'humidity\\': 64, \\'cloud\\': 25, \\'feelslike_c\\': 19.3, \\'feelslike_f\\': 66.7, \\'windchill_c\\': 20.6, \\'windchill_f\\': 69.0, \\'heatindex_c\\': 20.6, \\'heatindex_f\\': 69.0, \\'dewpoint_c\\': 10.1, \\'dewpoint_f\\': 50.2, \\'vis_km\\': 10.0, \\'vis_miles\\': 6.0, \\'uv\\': 6.0, \\'gust_mph\\': 20.1, \\'gust_kph\\': 32.3}}\"}, {\\'url\\': \\'https://www.meteoblue.com/en/weather/week/martina-franca_italy_3173841\\', \\'content\\': \\'Weather Martina Franca - meteoblue Weather Maps Weather Maps Widget 3h Weather Widget Weather News °F Weather Martina Franca 61 °F 8 mph 18:35 This addition further enhances our forecast data calculation, weather maps, and MultiModel. Wind direction and wind speed Precipitation amount Sunshine hours Predictability shows if the forecast is reliable , a bit uncertain , or is likely to change . Sun Today   65 °F 56 °F 15 mph - 4 h Temperature (°F) The weather forecast has very high predictability. The weather forecast for Martina Franca for Sunday is expected to be very accurate. More Weather Maps Hourly weather forecast for Martina Franca This addition further enhances our forecast data calculation, weather maps, and MultiModel. More weather data Weather Forecast Weather Maps Weather Apps\\'}]', name='tavily_search_results_json', tool_call_id='call_CXT9KjT4giY2XZwGpq39scOo'), AIMessage(content='The current weather in Martina Franca, Italy is as follows:\\n- **Temperature:** 19.3°C (66.7°F)\\n- **Condition:** Partly cloudy\\n- **Wind:** 28.1 kph (17.4 mph) from the northwest\\n- **Humidity:** 64%\\n- **Pressure:** 1011.0 mb\\n- **Visibility:** 10 km\\n- **UV Index:** 6\\n\\n![Partly cloudy](//cdn.weatherapi.com/weather/64x64/day/116.png)', additional_kwargs={'refusal': None}, response_metadata={'token_usage': {'completion_tokens': 111, 'prompt_tokens': 1469, 'total_tokens': 1580, 'completion_tokens_details': {'reasoning_tokens': 0}}, 'model_name': 'gpt-4o-2024-05-13', 'system_fingerprint': 'fp_25624ae3a5', 'finish_reason': 'stop', 'logprobs': None}, id='run-586a4dd3-1218-4906-9428-9a9b4d548475-0', usage_metadata={'input_tokens': 1469, 'output_tokens': 111, 'total_tokens': 1580}), HumanMessage(content='Which one is warmer?', additional_kwargs={}, response_metadata={}), AIMessage(content='Both Taranto and Martina Franca currently have the same temperature of 19.3°C (66.7°F). Therefore, neither is warmer than the other.', additional_kwargs={'refusal': None}, response_metadata={'token_usage': {'completion_tokens': 34, 'prompt_tokens': 1592, 'total_tokens': 1626, 'completion_tokens_details': {'reasoning_tokens': 0}}, 'model_name': 'gpt-4o-2024-05-13', 'system_fingerprint': 'fp_25624ae3a5', 'finish_reason': 'stop', 'logprobs': None}, id='run-43dec3ee-6846-4c0a-8b2c-122b7595bbba-0', usage_metadata={'input_tokens': 1592, 'output_tokens': 34, 'total_tokens': 1626})]}\n",
      "{'messages': [AIMessage(content='Both Taranto and Martina Franca currently have the same temperature of 19.3°C (66.7°F). Therefore, neither is warmer than the other.', additional_kwargs={'refusal': None}, response_metadata={'token_usage': {'completion_tokens': 34, 'prompt_tokens': 1592, 'total_tokens': 1626, 'completion_tokens_details': {'reasoning_tokens': 0}}, 'model_name': 'gpt-4o-2024-05-13', 'system_fingerprint': 'fp_25624ae3a5', 'finish_reason': 'stop', 'logprobs': None}, id='run-43dec3ee-6846-4c0a-8b2c-122b7595bbba-0', usage_metadata={'input_tokens': 1592, 'output_tokens': 34, 'total_tokens': 1626})]}\n"
     ]
    }
   ],
   "source": [
    "messages = [HumanMessage(content=\"Which one is warmer?\")]\n",
    "thread = {\"configurable\": {\"thread_id\": \"1\"}}\n",
    "for event in ag.graph.stream({\"messages\": messages}, thread):\n",
    "    for v in event.values():\n",
    "        print(v)"
   ]
  },
  {
   "cell_type": "code",
   "execution_count": 15,
   "id": "de22969b-cbd5-4d96-a87e-4a17d9a0e1d0",
   "metadata": {},
   "outputs": [
    {
     "name": "stdout",
     "output_type": "stream",
     "text": [
      "{'messages': [HumanMessage(content='Which one is warmer?', additional_kwargs={}, response_metadata={}), AIMessage(content='To provide an accurate answer, I need to know the specific items or locations you want to compare in terms of warmth. Could you please specify the two things you want to compare?', additional_kwargs={'refusal': None}, response_metadata={'token_usage': {'completion_tokens': 37, 'prompt_tokens': 155, 'total_tokens': 192, 'completion_tokens_details': {'reasoning_tokens': 0}}, 'model_name': 'gpt-4o-2024-05-13', 'system_fingerprint': 'fp_25624ae3a5', 'finish_reason': 'stop', 'logprobs': None}, id='run-8270f177-fee2-40a1-9f22-8d1850bf988a-0', usage_metadata={'input_tokens': 155, 'output_tokens': 37, 'total_tokens': 192})]}\n",
      "{'messages': [AIMessage(content='To provide an accurate answer, I need to know the specific items or locations you want to compare in terms of warmth. Could you please specify the two things you want to compare?', additional_kwargs={'refusal': None}, response_metadata={'token_usage': {'completion_tokens': 37, 'prompt_tokens': 155, 'total_tokens': 192, 'completion_tokens_details': {'reasoning_tokens': 0}}, 'model_name': 'gpt-4o-2024-05-13', 'system_fingerprint': 'fp_25624ae3a5', 'finish_reason': 'stop', 'logprobs': None}, id='run-8270f177-fee2-40a1-9f22-8d1850bf988a-0', usage_metadata={'input_tokens': 155, 'output_tokens': 37, 'total_tokens': 192})]}\n"
     ]
    }
   ],
   "source": [
    "messages = [HumanMessage(content=\"Which one is warmer?\")]\n",
    "thread = {\"configurable\": {\"thread_id\": \"2\"}}\n",
    "for event in ag.graph.stream({\"messages\": messages}, thread):\n",
    "    for v in event.values():\n",
    "        print(v)"
   ]
  },
  {
   "cell_type": "markdown",
   "id": "c10d1803-7c5c-46d9-8edf-f55b5f022b3c",
   "metadata": {},
   "source": [
    "## Flow control"
   ]
  },
  {
   "cell_type": "code",
   "execution_count": 16,
   "id": "5d6780ab-faec-4b73-9393-e4714313dfaf",
   "metadata": {},
   "outputs": [],
   "source": [
    "class Agent_control:\n",
    "    def __init__(self, model, tools, checkpointer, system=\"\"):\n",
    "        self.system = system\n",
    "        graph = StateGraph(AgentState)\n",
    "        graph.add_node(\"llm\", self.call_openai)\n",
    "        graph.add_node(\"action\", self.take_action)\n",
    "        graph.add_conditional_edges(\"llm\", self.exists_action, {True: \"action\", False: END})\n",
    "        graph.add_edge(\"action\", \"llm\")\n",
    "        graph.set_entry_point(\"llm\")\n",
    "        self.graph = graph.compile(\n",
    "            checkpointer=checkpointer, \n",
    "            interrupt_before=[\"action\"] # addition\n",
    "        )\n",
    "        self.tools = {t.name: t for t in tools}\n",
    "        self.model = model.bind_tools(tools)\n",
    "\n",
    "    def call_openai(self, state: AgentState):\n",
    "        messages = state['messages']\n",
    "        if self.system:\n",
    "            messages = [SystemMessage(content=self.system)] + messages\n",
    "        message = self.model.invoke(messages)\n",
    "        return {'messages': [message]}\n",
    "\n",
    "    def exists_action(self, state: AgentState):\n",
    "        print(state)\n",
    "        result = state['messages'][-1]\n",
    "        return len(result.tool_calls) > 0\n",
    "\n",
    "    def take_action(self, state: AgentState):\n",
    "        tool_calls = state['messages'][-1].tool_calls\n",
    "        results = []\n",
    "        for t in tool_calls:\n",
    "            print(f\"Calling: {t}\")\n",
    "            result = self.tools[t['name']].invoke(t['args'])\n",
    "            results.append(ToolMessage(tool_call_id=t['id'], name=t['name'], content=str(result)))\n",
    "        print(\"Back to the model!\")\n",
    "        return {'messages': results}"
   ]
  },
  {
   "cell_type": "code",
   "execution_count": 17,
   "id": "73b2537b-9cbd-441a-8efe-d70afc83bfee",
   "metadata": {},
   "outputs": [],
   "source": [
    "conn_control = sqlite3.connect(\":memory:\", check_same_thread=False)  \n",
    "memory_control = SqliteSaver(conn_control)"
   ]
  },
  {
   "cell_type": "code",
   "execution_count": 18,
   "id": "3e5cff5a-740c-4de5-9bf6-d57e1e000312",
   "metadata": {},
   "outputs": [],
   "source": [
    "ag_control = Agent_control(model, [tool], system=prompt, checkpointer=memory_control)"
   ]
  },
  {
   "cell_type": "code",
   "execution_count": 19,
   "id": "29516b0a-7a5a-4691-893a-81c1b3a6ce65",
   "metadata": {},
   "outputs": [
    {
     "data": {
      "image/png": "[encoded data removed]",
      "text/plain": [
       "<IPython.core.display.Image object>"
      ]
     },
     "execution_count": 19,
     "metadata": {},
     "output_type": "execute_result"
    }
   ],
   "source": [
    "Image(ag_control.graph.get_graph().draw_png())"
   ]
  },
  {
   "cell_type": "code",
   "execution_count": 20,
   "id": "2dc49a95-f3de-4eb7-ae3a-bf0ce5156b60",
   "metadata": {},
   "outputs": [
    {
     "name": "stdout",
     "output_type": "stream",
     "text": [
      "{'messages': [HumanMessage(content='What is the weather like in Taranto?', additional_kwargs={}, response_metadata={}), AIMessage(content='', additional_kwargs={'tool_calls': [{'id': 'call_7LgoF3RRnbZ6dDmhqYFEZvux', 'function': {'arguments': '{\"query\":\"current weather in Taranto\"}', 'name': 'tavily_search_results_json'}, 'type': 'function'}], 'refusal': None}, response_metadata={'token_usage': {'completion_tokens': 22, 'prompt_tokens': 159, 'total_tokens': 181, 'completion_tokens_details': {'reasoning_tokens': 0}}, 'model_name': 'gpt-4o-2024-05-13', 'system_fingerprint': 'fp_25624ae3a5', 'finish_reason': 'tool_calls', 'logprobs': None}, id='run-a16d4ce1-e702-4af8-8b59-a74db544f95a-0', tool_calls=[{'name': 'tavily_search_results_json', 'args': {'query': 'current weather in Taranto'}, 'id': 'call_7LgoF3RRnbZ6dDmhqYFEZvux', 'type': 'tool_call'}], usage_metadata={'input_tokens': 159, 'output_tokens': 22, 'total_tokens': 181})]}\n",
      "{'messages': [AIMessage(content='', additional_kwargs={'tool_calls': [{'id': 'call_7LgoF3RRnbZ6dDmhqYFEZvux', 'function': {'arguments': '{\"query\":\"current weather in Taranto\"}', 'name': 'tavily_search_results_json'}, 'type': 'function'}], 'refusal': None}, response_metadata={'token_usage': {'completion_tokens': 22, 'prompt_tokens': 159, 'total_tokens': 181, 'completion_tokens_details': {'reasoning_tokens': 0}}, 'model_name': 'gpt-4o-2024-05-13', 'system_fingerprint': 'fp_25624ae3a5', 'finish_reason': 'tool_calls', 'logprobs': None}, id='run-a16d4ce1-e702-4af8-8b59-a74db544f95a-0', tool_calls=[{'name': 'tavily_search_results_json', 'args': {'query': 'current weather in Taranto'}, 'id': 'call_7LgoF3RRnbZ6dDmhqYFEZvux', 'type': 'tool_call'}], usage_metadata={'input_tokens': 159, 'output_tokens': 22, 'total_tokens': 181})]}\n"
     ]
    }
   ],
   "source": [
    "messages = [HumanMessage(content=\"What is the weather like in Taranto?\")]\n",
    "thread = {\"configurable\": {\"thread_id\": \"1\"}}\n",
    "for event in ag_control.graph.stream({\"messages\": messages}, thread):\n",
    "    for v in event.values():\n",
    "        print(v)"
   ]
  },
  {
   "cell_type": "code",
   "execution_count": 21,
   "id": "3fba8271-a46c-4059-ad7d-5b0fedee29c8",
   "metadata": {},
   "outputs": [
    {
     "data": {
      "text/plain": [
       "StateSnapshot(values={'messages': [HumanMessage(content='What is the weather like in Taranto?', additional_kwargs={}, response_metadata={}), AIMessage(content='', additional_kwargs={'tool_calls': [{'id': 'call_7LgoF3RRnbZ6dDmhqYFEZvux', 'function': {'arguments': '{\"query\":\"current weather in Taranto\"}', 'name': 'tavily_search_results_json'}, 'type': 'function'}], 'refusal': None}, response_metadata={'token_usage': {'completion_tokens': 22, 'prompt_tokens': 159, 'total_tokens': 181, 'completion_tokens_details': {'reasoning_tokens': 0}}, 'model_name': 'gpt-4o-2024-05-13', 'system_fingerprint': 'fp_25624ae3a5', 'finish_reason': 'tool_calls', 'logprobs': None}, id='run-a16d4ce1-e702-4af8-8b59-a74db544f95a-0', tool_calls=[{'name': 'tavily_search_results_json', 'args': {'query': 'current weather in Taranto'}, 'id': 'call_7LgoF3RRnbZ6dDmhqYFEZvux', 'type': 'tool_call'}], usage_metadata={'input_tokens': 159, 'output_tokens': 22, 'total_tokens': 181})]}, next=('action',), config={'configurable': {'thread_id': '1', 'checkpoint_ns': '', 'checkpoint_id': '1ef73ff2-7a52-6c37-8001-161a671a59e0'}}, metadata={'source': 'loop', 'writes': {'llm': {'messages': [AIMessage(content='', additional_kwargs={'tool_calls': [{'id': 'call_7LgoF3RRnbZ6dDmhqYFEZvux', 'function': {'arguments': '{\"query\":\"current weather in Taranto\"}', 'name': 'tavily_search_results_json'}, 'type': 'function'}], 'refusal': None}, response_metadata={'token_usage': {'completion_tokens': 22, 'prompt_tokens': 159, 'total_tokens': 181, 'completion_tokens_details': {'reasoning_tokens': 0}}, 'model_name': 'gpt-4o-2024-05-13', 'system_fingerprint': 'fp_25624ae3a5', 'finish_reason': 'tool_calls', 'logprobs': None}, id='run-a16d4ce1-e702-4af8-8b59-a74db544f95a-0', tool_calls=[{'name': 'tavily_search_results_json', 'args': {'query': 'current weather in Taranto'}, 'id': 'call_7LgoF3RRnbZ6dDmhqYFEZvux', 'type': 'tool_call'}], usage_metadata={'input_tokens': 159, 'output_tokens': 22, 'total_tokens': 181})]}}, 'step': 1, 'parents': {}}, created_at='2024-09-16T07:41:59.076562+00:00', parent_config={'configurable': {'thread_id': '1', 'checkpoint_ns': '', 'checkpoint_id': '1ef73ff2-7354-60d7-8000-b07b79c1269a'}}, tasks=(PregelTask(id='49cf2710-414f-e09e-45e3-ea4d29d84a46', name='action', path=('__pregel_pull', 'action'), error=None, interrupts=(), state=None),))"
      ]
     },
     "execution_count": 21,
     "metadata": {},
     "output_type": "execute_result"
    }
   ],
   "source": [
    "ag_control.graph.get_state(thread)"
   ]
  },
  {
   "cell_type": "code",
   "execution_count": 22,
   "id": "136d7ad3-6277-470c-b013-7f18d878b796",
   "metadata": {},
   "outputs": [
    {
     "data": {
      "text/plain": [
       "('action',)"
      ]
     },
     "execution_count": 22,
     "metadata": {},
     "output_type": "execute_result"
    }
   ],
   "source": [
    "ag_control.graph.get_state(thread).next"
   ]
  },
  {
   "cell_type": "markdown",
   "id": "c86bc048-d02e-4ab9-9c9b-07533b27388d",
   "metadata": {},
   "source": [
    "### Continue after interrupt"
   ]
  },
  {
   "cell_type": "code",
   "execution_count": 23,
   "id": "75c2b6c2-a5e5-4f4b-8c64-848ee009d4c5",
   "metadata": {},
   "outputs": [
    {
     "name": "stdout",
     "output_type": "stream",
     "text": [
      "Calling: {'name': 'tavily_search_results_json', 'args': {'query': 'current weather in Taranto'}, 'id': 'call_7LgoF3RRnbZ6dDmhqYFEZvux', 'type': 'tool_call'}\n",
      "Back to the model!\n",
      "{'messages': [ToolMessage(content='[{\\'url\\': \\'https://www.weatherapi.com/\\', \\'content\\': \"{\\'location\\': {\\'name\\': \\'Taranto\\', \\'region\\': \\'Puglia\\', \\'country\\': \\'Italy\\', \\'lat\\': 40.48, \\'lon\\': 17.23, \\'tz_id\\': \\'Europe/Rome\\', \\'localtime_epoch\\': 1726472488, \\'localtime\\': \\'2024-09-16 09:41\\'}, \\'current\\': {\\'last_updated_epoch\\': 1726471800, \\'last_updated\\': \\'2024-09-16 09:30\\', \\'temp_c\\': 19.3, \\'temp_f\\': 66.7, \\'is_day\\': 1, \\'condition\\': {\\'text\\': \\'Partly cloudy\\', \\'icon\\': \\'//cdn.weatherapi.com/weather/64x64/day/116.png\\', \\'code\\': 1003}, \\'wind_mph\\': 14.5, \\'wind_kph\\': 23.4, \\'wind_degree\\': 322, \\'wind_dir\\': \\'NW\\', \\'pressure_mb\\': 1011.0, \\'pressure_in\\': 29.85, \\'precip_mm\\': 0.01, \\'precip_in\\': 0.0, \\'humidity\\': 64, \\'cloud\\': 25, \\'feelslike_c\\': 19.3, \\'feelslike_f\\': 66.7, \\'windchill_c\\': 21.2, \\'windchill_f\\': 70.1, \\'heatindex_c\\': 24.3, \\'heatindex_f\\': 75.7, \\'dewpoint_c\\': 10.2, \\'dewpoint_f\\': 50.3, \\'vis_km\\': 10.0, \\'vis_miles\\': 6.0, \\'uv\\': 5.0, \\'gust_mph\\': 16.7, \\'gust_kph\\': 26.9}}\"}, {\\'url\\': \\'https://world-weather.info/forecast/italy/taranto/16-september/\\', \\'content\\': \\'Detailed ⚡ Weather Forecast for September 16 in Taranto, Apulia, Italy - 🌡️ temperature, wind, atmospheric pressure, humidity and precipitations - World-Weather.info ... September 16, 2024 . Weather Forecast is not ready yet. September 16, 2023 : Atmospheric conditions ... Hourly forecast for 16.09.2023. September 16, 2022 : Atmospheric ...\\'}]', name='tavily_search_results_json', tool_call_id='call_7LgoF3RRnbZ6dDmhqYFEZvux')]}\n",
      "{'messages': [HumanMessage(content='What is the weather like in Taranto?', additional_kwargs={}, response_metadata={}), AIMessage(content='', additional_kwargs={'tool_calls': [{'id': 'call_7LgoF3RRnbZ6dDmhqYFEZvux', 'function': {'arguments': '{\"query\":\"current weather in Taranto\"}', 'name': 'tavily_search_results_json'}, 'type': 'function'}], 'refusal': None}, response_metadata={'token_usage': {'completion_tokens': 22, 'prompt_tokens': 159, 'total_tokens': 181, 'completion_tokens_details': {'reasoning_tokens': 0}}, 'model_name': 'gpt-4o-2024-05-13', 'system_fingerprint': 'fp_25624ae3a5', 'finish_reason': 'tool_calls', 'logprobs': None}, id='run-a16d4ce1-e702-4af8-8b59-a74db544f95a-0', tool_calls=[{'name': 'tavily_search_results_json', 'args': {'query': 'current weather in Taranto'}, 'id': 'call_7LgoF3RRnbZ6dDmhqYFEZvux', 'type': 'tool_call'}], usage_metadata={'input_tokens': 159, 'output_tokens': 22, 'total_tokens': 181}), ToolMessage(content='[{\\'url\\': \\'https://www.weatherapi.com/\\', \\'content\\': \"{\\'location\\': {\\'name\\': \\'Taranto\\', \\'region\\': \\'Puglia\\', \\'country\\': \\'Italy\\', \\'lat\\': 40.48, \\'lon\\': 17.23, \\'tz_id\\': \\'Europe/Rome\\', \\'localtime_epoch\\': 1726472488, \\'localtime\\': \\'2024-09-16 09:41\\'}, \\'current\\': {\\'last_updated_epoch\\': 1726471800, \\'last_updated\\': \\'2024-09-16 09:30\\', \\'temp_c\\': 19.3, \\'temp_f\\': 66.7, \\'is_day\\': 1, \\'condition\\': {\\'text\\': \\'Partly cloudy\\', \\'icon\\': \\'//cdn.weatherapi.com/weather/64x64/day/116.png\\', \\'code\\': 1003}, \\'wind_mph\\': 14.5, \\'wind_kph\\': 23.4, \\'wind_degree\\': 322, \\'wind_dir\\': \\'NW\\', \\'pressure_mb\\': 1011.0, \\'pressure_in\\': 29.85, \\'precip_mm\\': 0.01, \\'precip_in\\': 0.0, \\'humidity\\': 64, \\'cloud\\': 25, \\'feelslike_c\\': 19.3, \\'feelslike_f\\': 66.7, \\'windchill_c\\': 21.2, \\'windchill_f\\': 70.1, \\'heatindex_c\\': 24.3, \\'heatindex_f\\': 75.7, \\'dewpoint_c\\': 10.2, \\'dewpoint_f\\': 50.3, \\'vis_km\\': 10.0, \\'vis_miles\\': 6.0, \\'uv\\': 5.0, \\'gust_mph\\': 16.7, \\'gust_kph\\': 26.9}}\"}, {\\'url\\': \\'https://world-weather.info/forecast/italy/taranto/16-september/\\', \\'content\\': \\'Detailed ⚡ Weather Forecast for September 16 in Taranto, Apulia, Italy - 🌡️ temperature, wind, atmospheric pressure, humidity and precipitations - World-Weather.info ... September 16, 2024 . Weather Forecast is not ready yet. September 16, 2023 : Atmospheric conditions ... Hourly forecast for 16.09.2023. September 16, 2022 : Atmospheric ...\\'}]', name='tavily_search_results_json', tool_call_id='call_7LgoF3RRnbZ6dDmhqYFEZvux'), AIMessage(content='The current weather in Taranto, Italy is as follows:\\n\\n- **Temperature:** 19.3°C (66.7°F)\\n- **Condition:** Partly cloudy\\n- **Wind:** 23.4 kph (14.5 mph) from the northwest\\n- **Humidity:** 64%\\n- **Pressure:** 1011.0 mb\\n- **Precipitation:** 0.01 mm\\n- **Visibility:** 10 km\\n- **UV Index:** 5\\n\\nThe weather data was last updated at 09:30 local time on September 16, 2024.', additional_kwargs={'refusal': None}, response_metadata={'token_usage': {'completion_tokens': 124, 'prompt_tokens': 707, 'total_tokens': 831, 'completion_tokens_details': {'reasoning_tokens': 0}}, 'model_name': 'gpt-4o-2024-05-13', 'system_fingerprint': 'fp_25624ae3a5', 'finish_reason': 'stop', 'logprobs': None}, id='run-4773895a-9b53-4b8a-bd19-559955692979-0', usage_metadata={'input_tokens': 707, 'output_tokens': 124, 'total_tokens': 831})]}\n",
      "{'messages': [AIMessage(content='The current weather in Taranto, Italy is as follows:\\n\\n- **Temperature:** 19.3°C (66.7°F)\\n- **Condition:** Partly cloudy\\n- **Wind:** 23.4 kph (14.5 mph) from the northwest\\n- **Humidity:** 64%\\n- **Pressure:** 1011.0 mb\\n- **Precipitation:** 0.01 mm\\n- **Visibility:** 10 km\\n- **UV Index:** 5\\n\\nThe weather data was last updated at 09:30 local time on September 16, 2024.', additional_kwargs={'refusal': None}, response_metadata={'token_usage': {'completion_tokens': 124, 'prompt_tokens': 707, 'total_tokens': 831, 'completion_tokens_details': {'reasoning_tokens': 0}}, 'model_name': 'gpt-4o-2024-05-13', 'system_fingerprint': 'fp_25624ae3a5', 'finish_reason': 'stop', 'logprobs': None}, id='run-4773895a-9b53-4b8a-bd19-559955692979-0', usage_metadata={'input_tokens': 707, 'output_tokens': 124, 'total_tokens': 831})]}\n"
     ]
    }
   ],
   "source": [
    "for event in ag_control.graph.stream(None, thread):\n",
    "    for v in event.values():\n",
    "        print(v)"
   ]
  },
  {
   "cell_type": "code",
   "execution_count": 24,
   "id": "8e865c6c-6bcb-4671-a15f-3894ef01c323",
   "metadata": {},
   "outputs": [
    {
     "data": {
      "text/plain": [
       "StateSnapshot(values={'messages': [HumanMessage(content='What is the weather like in Taranto?', additional_kwargs={}, response_metadata={}), AIMessage(content='', additional_kwargs={'tool_calls': [{'id': 'call_7LgoF3RRnbZ6dDmhqYFEZvux', 'function': {'arguments': '{\"query\":\"current weather in Taranto\"}', 'name': 'tavily_search_results_json'}, 'type': 'function'}], 'refusal': None}, response_metadata={'token_usage': {'completion_tokens': 22, 'prompt_tokens': 159, 'total_tokens': 181, 'completion_tokens_details': {'reasoning_tokens': 0}}, 'model_name': 'gpt-4o-2024-05-13', 'system_fingerprint': 'fp_25624ae3a5', 'finish_reason': 'tool_calls', 'logprobs': None}, id='run-a16d4ce1-e702-4af8-8b59-a74db544f95a-0', tool_calls=[{'name': 'tavily_search_results_json', 'args': {'query': 'current weather in Taranto'}, 'id': 'call_7LgoF3RRnbZ6dDmhqYFEZvux', 'type': 'tool_call'}], usage_metadata={'input_tokens': 159, 'output_tokens': 22, 'total_tokens': 181}), ToolMessage(content='[{\\'url\\': \\'https://www.weatherapi.com/\\', \\'content\\': \"{\\'location\\': {\\'name\\': \\'Taranto\\', \\'region\\': \\'Puglia\\', \\'country\\': \\'Italy\\', \\'lat\\': 40.48, \\'lon\\': 17.23, \\'tz_id\\': \\'Europe/Rome\\', \\'localtime_epoch\\': 1726472488, \\'localtime\\': \\'2024-09-16 09:41\\'}, \\'current\\': {\\'last_updated_epoch\\': 1726471800, \\'last_updated\\': \\'2024-09-16 09:30\\', \\'temp_c\\': 19.3, \\'temp_f\\': 66.7, \\'is_day\\': 1, \\'condition\\': {\\'text\\': \\'Partly cloudy\\', \\'icon\\': \\'//cdn.weatherapi.com/weather/64x64/day/116.png\\', \\'code\\': 1003}, \\'wind_mph\\': 14.5, \\'wind_kph\\': 23.4, \\'wind_degree\\': 322, \\'wind_dir\\': \\'NW\\', \\'pressure_mb\\': 1011.0, \\'pressure_in\\': 29.85, \\'precip_mm\\': 0.01, \\'precip_in\\': 0.0, \\'humidity\\': 64, \\'cloud\\': 25, \\'feelslike_c\\': 19.3, \\'feelslike_f\\': 66.7, \\'windchill_c\\': 21.2, \\'windchill_f\\': 70.1, \\'heatindex_c\\': 24.3, \\'heatindex_f\\': 75.7, \\'dewpoint_c\\': 10.2, \\'dewpoint_f\\': 50.3, \\'vis_km\\': 10.0, \\'vis_miles\\': 6.0, \\'uv\\': 5.0, \\'gust_mph\\': 16.7, \\'gust_kph\\': 26.9}}\"}, {\\'url\\': \\'https://world-weather.info/forecast/italy/taranto/16-september/\\', \\'content\\': \\'Detailed ⚡ Weather Forecast for September 16 in Taranto, Apulia, Italy - 🌡️ temperature, wind, atmospheric pressure, humidity and precipitations - World-Weather.info ... September 16, 2024 . Weather Forecast is not ready yet. September 16, 2023 : Atmospheric conditions ... Hourly forecast for 16.09.2023. September 16, 2022 : Atmospheric ...\\'}]', name='tavily_search_results_json', tool_call_id='call_7LgoF3RRnbZ6dDmhqYFEZvux'), AIMessage(content='The current weather in Taranto, Italy is as follows:\\n\\n- **Temperature:** 19.3°C (66.7°F)\\n- **Condition:** Partly cloudy\\n- **Wind:** 23.4 kph (14.5 mph) from the northwest\\n- **Humidity:** 64%\\n- **Pressure:** 1011.0 mb\\n- **Precipitation:** 0.01 mm\\n- **Visibility:** 10 km\\n- **UV Index:** 5\\n\\nThe weather data was last updated at 09:30 local time on September 16, 2024.', additional_kwargs={'refusal': None}, response_metadata={'token_usage': {'completion_tokens': 124, 'prompt_tokens': 707, 'total_tokens': 831, 'completion_tokens_details': {'reasoning_tokens': 0}}, 'model_name': 'gpt-4o-2024-05-13', 'system_fingerprint': 'fp_25624ae3a5', 'finish_reason': 'stop', 'logprobs': None}, id='run-4773895a-9b53-4b8a-bd19-559955692979-0', usage_metadata={'input_tokens': 707, 'output_tokens': 124, 'total_tokens': 831})]}, next=(), config={'configurable': {'thread_id': '1', 'checkpoint_ns': '', 'checkpoint_id': '1ef73ff2-af31-6ae9-8003-97b0a974660f'}}, metadata={'source': 'loop', 'writes': {'llm': {'messages': [AIMessage(content='The current weather in Taranto, Italy is as follows:\\n\\n- **Temperature:** 19.3°C (66.7°F)\\n- **Condition:** Partly cloudy\\n- **Wind:** 23.4 kph (14.5 mph) from the northwest\\n- **Humidity:** 64%\\n- **Pressure:** 1011.0 mb\\n- **Precipitation:** 0.01 mm\\n- **Visibility:** 10 km\\n- **UV Index:** 5\\n\\nThe weather data was last updated at 09:30 local time on September 16, 2024.', additional_kwargs={'refusal': None}, response_metadata={'token_usage': {'completion_tokens': 124, 'prompt_tokens': 707, 'total_tokens': 831, 'completion_tokens_details': {'reasoning_tokens': 0}}, 'model_name': 'gpt-4o-2024-05-13', 'system_fingerprint': 'fp_25624ae3a5', 'finish_reason': 'stop', 'logprobs': None}, id='run-4773895a-9b53-4b8a-bd19-559955692979-0', usage_metadata={'input_tokens': 707, 'output_tokens': 124, 'total_tokens': 831})]}}, 'step': 3, 'parents': {}}, created_at='2024-09-16T07:42:04.620464+00:00', parent_config={'configurable': {'thread_id': '1', 'checkpoint_ns': '', 'checkpoint_id': '1ef73ff2-a056-6457-8002-0f0fe0fc3d6a'}}, tasks=())"
      ]
     },
     "execution_count": 24,
     "metadata": {},
     "output_type": "execute_result"
    }
   ],
   "source": [
    "ag_control.graph.get_state(thread)"
   ]
  },
  {
   "cell_type": "code",
   "execution_count": 25,
   "id": "c5cddbf6-8fa6-4f45-a58d-a8eb080f879a",
   "metadata": {},
   "outputs": [
    {
     "data": {
      "text/plain": [
       "()"
      ]
     },
     "execution_count": 25,
     "metadata": {},
     "output_type": "execute_result"
    }
   ],
   "source": [
    "ag_control.graph.get_state(thread).next"
   ]
  },
  {
   "cell_type": "markdown",
   "id": "27aed2b0-612a-44b0-aac7-40b4555dfac5",
   "metadata": {},
   "source": [
    "The following block creates a user-controlled loop"
   ]
  },
  {
   "cell_type": "code",
   "execution_count": 26,
   "id": "42c8a6d6-6d51-4e33-841e-7e7b98139c38",
   "metadata": {},
   "outputs": [
    {
     "name": "stdout",
     "output_type": "stream",
     "text": [
      "{'messages': [HumanMessage(content='What is the weather like in Taranto?', additional_kwargs={}, response_metadata={}), AIMessage(content='', additional_kwargs={'tool_calls': [{'id': 'call_E5BBLclaTtKhePufSa9gsU9E', 'function': {'arguments': '{\"query\":\"current weather in Taranto\"}', 'name': 'tavily_search_results_json'}, 'type': 'function'}], 'refusal': None}, response_metadata={'token_usage': {'completion_tokens': 22, 'prompt_tokens': 159, 'total_tokens': 181, 'completion_tokens_details': {'reasoning_tokens': 0}}, 'model_name': 'gpt-4o-2024-05-13', 'system_fingerprint': 'fp_25624ae3a5', 'finish_reason': 'tool_calls', 'logprobs': None}, id='run-ed7ab95a-ac74-4a57-b3c3-b8e1d92f5fe8-0', tool_calls=[{'name': 'tavily_search_results_json', 'args': {'query': 'current weather in Taranto'}, 'id': 'call_E5BBLclaTtKhePufSa9gsU9E', 'type': 'tool_call'}], usage_metadata={'input_tokens': 159, 'output_tokens': 22, 'total_tokens': 181})]}\n",
      "{'messages': [AIMessage(content='', additional_kwargs={'tool_calls': [{'id': 'call_E5BBLclaTtKhePufSa9gsU9E', 'function': {'arguments': '{\"query\":\"current weather in Taranto\"}', 'name': 'tavily_search_results_json'}, 'type': 'function'}], 'refusal': None}, response_metadata={'token_usage': {'completion_tokens': 22, 'prompt_tokens': 159, 'total_tokens': 181, 'completion_tokens_details': {'reasoning_tokens': 0}}, 'model_name': 'gpt-4o-2024-05-13', 'system_fingerprint': 'fp_25624ae3a5', 'finish_reason': 'tool_calls', 'logprobs': None}, id='run-ed7ab95a-ac74-4a57-b3c3-b8e1d92f5fe8-0', tool_calls=[{'name': 'tavily_search_results_json', 'args': {'query': 'current weather in Taranto'}, 'id': 'call_E5BBLclaTtKhePufSa9gsU9E', 'type': 'tool_call'}], usage_metadata={'input_tokens': 159, 'output_tokens': 22, 'total_tokens': 181})]}\n",
      "\n",
      " StateSnapshot(values={'messages': [HumanMessage(content='What is the weather like in Taranto?', additional_kwargs={}, response_metadata={}), AIMessage(content='', additional_kwargs={'tool_calls': [{'id': 'call_E5BBLclaTtKhePufSa9gsU9E', 'function': {'arguments': '{\"query\":\"current weather in Taranto\"}', 'name': 'tavily_search_results_json'}, 'type': 'function'}], 'refusal': None}, response_metadata={'token_usage': {'completion_tokens': 22, 'prompt_tokens': 159, 'total_tokens': 181, 'completion_tokens_details': {'reasoning_tokens': 0}}, 'model_name': 'gpt-4o-2024-05-13', 'system_fingerprint': 'fp_25624ae3a5', 'finish_reason': 'tool_calls', 'logprobs': None}, id='run-ed7ab95a-ac74-4a57-b3c3-b8e1d92f5fe8-0', tool_calls=[{'name': 'tavily_search_results_json', 'args': {'query': 'current weather in Taranto'}, 'id': 'call_E5BBLclaTtKhePufSa9gsU9E', 'type': 'tool_call'}], usage_metadata={'input_tokens': 159, 'output_tokens': 22, 'total_tokens': 181})]}, next=('action',), config={'configurable': {'thread_id': '2', 'checkpoint_ns': '', 'checkpoint_id': '1ef73ff2-bac1-6069-8001-bee5ea454cd1'}}, metadata={'source': 'loop', 'writes': {'llm': {'messages': [AIMessage(content='', additional_kwargs={'tool_calls': [{'id': 'call_E5BBLclaTtKhePufSa9gsU9E', 'function': {'arguments': '{\"query\":\"current weather in Taranto\"}', 'name': 'tavily_search_results_json'}, 'type': 'function'}], 'refusal': None}, response_metadata={'token_usage': {'completion_tokens': 22, 'prompt_tokens': 159, 'total_tokens': 181, 'completion_tokens_details': {'reasoning_tokens': 0}}, 'model_name': 'gpt-4o-2024-05-13', 'system_fingerprint': 'fp_25624ae3a5', 'finish_reason': 'tool_calls', 'logprobs': None}, id='run-ed7ab95a-ac74-4a57-b3c3-b8e1d92f5fe8-0', tool_calls=[{'name': 'tavily_search_results_json', 'args': {'query': 'current weather in Taranto'}, 'id': 'call_E5BBLclaTtKhePufSa9gsU9E', 'type': 'tool_call'}], usage_metadata={'input_tokens': 159, 'output_tokens': 22, 'total_tokens': 181})]}}, 'step': 1, 'parents': {}}, created_at='2024-09-16T07:42:05.832612+00:00', parent_config={'configurable': {'thread_id': '2', 'checkpoint_ns': '', 'checkpoint_id': '1ef73ff2-b0b2-63ad-8000-2a7e351cd2f7'}}, tasks=(PregelTask(id='607a7bef-b0b4-2374-abbb-a21667731223', name='action', path=('__pregel_pull', 'action'), error=None, interrupts=(), state=None),)) \n",
      "\n"
     ]
    },
    {
     "name": "stdin",
     "output_type": "stream",
     "text": [
      "proceed? y\n"
     ]
    },
    {
     "name": "stdout",
     "output_type": "stream",
     "text": [
      "Calling: {'name': 'tavily_search_results_json', 'args': {'query': 'current weather in Taranto'}, 'id': 'call_E5BBLclaTtKhePufSa9gsU9E', 'type': 'tool_call'}\n",
      "Back to the model!\n",
      "{'messages': [ToolMessage(content='[{\\'url\\': \\'https://www.weatherapi.com/\\', \\'content\\': \"{\\'location\\': {\\'name\\': \\'Taranto\\', \\'region\\': \\'Puglia\\', \\'country\\': \\'Italy\\', \\'lat\\': 40.48, \\'lon\\': 17.23, \\'tz_id\\': \\'Europe/Rome\\', \\'localtime_epoch\\': 1726472568, \\'localtime\\': \\'2024-09-16 09:42\\'}, \\'current\\': {\\'last_updated_epoch\\': 1726471800, \\'last_updated\\': \\'2024-09-16 09:30\\', \\'temp_c\\': 19.3, \\'temp_f\\': 66.7, \\'is_day\\': 1, \\'condition\\': {\\'text\\': \\'Partly cloudy\\', \\'icon\\': \\'//cdn.weatherapi.com/weather/64x64/day/116.png\\', \\'code\\': 1003}, \\'wind_mph\\': 14.5, \\'wind_kph\\': 23.4, \\'wind_degree\\': 322, \\'wind_dir\\': \\'NW\\', \\'pressure_mb\\': 1011.0, \\'pressure_in\\': 29.85, \\'precip_mm\\': 0.01, \\'precip_in\\': 0.0, \\'humidity\\': 64, \\'cloud\\': 25, \\'feelslike_c\\': 19.3, \\'feelslike_f\\': 66.7, \\'windchill_c\\': 21.2, \\'windchill_f\\': 70.1, \\'heatindex_c\\': 24.3, \\'heatindex_f\\': 75.7, \\'dewpoint_c\\': 10.2, \\'dewpoint_f\\': 50.3, \\'vis_km\\': 10.0, \\'vis_miles\\': 6.0, \\'uv\\': 5.0, \\'gust_mph\\': 16.7, \\'gust_kph\\': 26.9}}\"}, {\\'url\\': \\'https://www.weather25.com/europe/italy/puglia/taranto?page=month&month=September\\', \\'content\\': \\'Taranto weather in September 2024 | Taranto 14 day weather Taranto  Taranto Taranto weather in September 2024 The average weather in Taranto in September The weather in Taranto in September is hot. You can expect about 3 to 8 days of rain in Taranto during the month of September. Taranto in May Taranto in September Temperatures in Taranto in September Weather in Taranto in September - FAQ What is the average temperature in Taranto in September? The average temperature in Taranto in September is 20/28° C. On average, there are 3 rainy days in Taranto during September. The weather in Taranto in September is perfect. On average, there are 0 snowy days in Taranto in September. More about the weather in Taranto\\'}]', name='tavily_search_results_json', tool_call_id='call_E5BBLclaTtKhePufSa9gsU9E')]}\n",
      "{'messages': [HumanMessage(content='What is the weather like in Taranto?', additional_kwargs={}, response_metadata={}), AIMessage(content='', additional_kwargs={'tool_calls': [{'id': 'call_E5BBLclaTtKhePufSa9gsU9E', 'function': {'arguments': '{\"query\":\"current weather in Taranto\"}', 'name': 'tavily_search_results_json'}, 'type': 'function'}], 'refusal': None}, response_metadata={'token_usage': {'completion_tokens': 22, 'prompt_tokens': 159, 'total_tokens': 181, 'completion_tokens_details': {'reasoning_tokens': 0}}, 'model_name': 'gpt-4o-2024-05-13', 'system_fingerprint': 'fp_25624ae3a5', 'finish_reason': 'tool_calls', 'logprobs': None}, id='run-ed7ab95a-ac74-4a57-b3c3-b8e1d92f5fe8-0', tool_calls=[{'name': 'tavily_search_results_json', 'args': {'query': 'current weather in Taranto'}, 'id': 'call_E5BBLclaTtKhePufSa9gsU9E', 'type': 'tool_call'}], usage_metadata={'input_tokens': 159, 'output_tokens': 22, 'total_tokens': 181}), ToolMessage(content='[{\\'url\\': \\'https://www.weatherapi.com/\\', \\'content\\': \"{\\'location\\': {\\'name\\': \\'Taranto\\', \\'region\\': \\'Puglia\\', \\'country\\': \\'Italy\\', \\'lat\\': 40.48, \\'lon\\': 17.23, \\'tz_id\\': \\'Europe/Rome\\', \\'localtime_epoch\\': 1726472568, \\'localtime\\': \\'2024-09-16 09:42\\'}, \\'current\\': {\\'last_updated_epoch\\': 1726471800, \\'last_updated\\': \\'2024-09-16 09:30\\', \\'temp_c\\': 19.3, \\'temp_f\\': 66.7, \\'is_day\\': 1, \\'condition\\': {\\'text\\': \\'Partly cloudy\\', \\'icon\\': \\'//cdn.weatherapi.com/weather/64x64/day/116.png\\', \\'code\\': 1003}, \\'wind_mph\\': 14.5, \\'wind_kph\\': 23.4, \\'wind_degree\\': 322, \\'wind_dir\\': \\'NW\\', \\'pressure_mb\\': 1011.0, \\'pressure_in\\': 29.85, \\'precip_mm\\': 0.01, \\'precip_in\\': 0.0, \\'humidity\\': 64, \\'cloud\\': 25, \\'feelslike_c\\': 19.3, \\'feelslike_f\\': 66.7, \\'windchill_c\\': 21.2, \\'windchill_f\\': 70.1, \\'heatindex_c\\': 24.3, \\'heatindex_f\\': 75.7, \\'dewpoint_c\\': 10.2, \\'dewpoint_f\\': 50.3, \\'vis_km\\': 10.0, \\'vis_miles\\': 6.0, \\'uv\\': 5.0, \\'gust_mph\\': 16.7, \\'gust_kph\\': 26.9}}\"}, {\\'url\\': \\'https://www.weather25.com/europe/italy/puglia/taranto?page=month&month=September\\', \\'content\\': \\'Taranto weather in September 2024 | Taranto 14 day weather Taranto  Taranto Taranto weather in September 2024 The average weather in Taranto in September The weather in Taranto in September is hot. You can expect about 3 to 8 days of rain in Taranto during the month of September. Taranto in May Taranto in September Temperatures in Taranto in September Weather in Taranto in September - FAQ What is the average temperature in Taranto in September? The average temperature in Taranto in September is 20/28° C. On average, there are 3 rainy days in Taranto during September. The weather in Taranto in September is perfect. On average, there are 0 snowy days in Taranto in September. More about the weather in Taranto\\'}]', name='tavily_search_results_json', tool_call_id='call_E5BBLclaTtKhePufSa9gsU9E'), AIMessage(content='Currently, in Taranto:\\n\\n- **Temperature:** 19.3°C (66.7°F)\\n- **Condition:** Partly cloudy\\n- **Wind:** 23.4 kph (14.5 mph) from the northwest\\n- **Humidity:** 64%\\n- **Pressure:** 1011 mb\\n- **Visibility:** 10 km\\n- **UV Index:** 5\\n\\nIt seems to be a pleasant day with partly cloudy skies and a moderate breeze.', additional_kwargs={'refusal': None}, response_metadata={'token_usage': {'completion_tokens': 98, 'prompt_tokens': 791, 'total_tokens': 889, 'completion_tokens_details': {'reasoning_tokens': 0}}, 'model_name': 'gpt-4o-2024-05-13', 'system_fingerprint': 'fp_25624ae3a5', 'finish_reason': 'stop', 'logprobs': None}, id='run-9ee59b7b-6834-4a63-930f-c6d8c8b16d9b-0', usage_metadata={'input_tokens': 791, 'output_tokens': 98, 'total_tokens': 889})]}\n",
      "{'messages': [AIMessage(content='Currently, in Taranto:\\n\\n- **Temperature:** 19.3°C (66.7°F)\\n- **Condition:** Partly cloudy\\n- **Wind:** 23.4 kph (14.5 mph) from the northwest\\n- **Humidity:** 64%\\n- **Pressure:** 1011 mb\\n- **Visibility:** 10 km\\n- **UV Index:** 5\\n\\nIt seems to be a pleasant day with partly cloudy skies and a moderate breeze.', additional_kwargs={'refusal': None}, response_metadata={'token_usage': {'completion_tokens': 98, 'prompt_tokens': 791, 'total_tokens': 889, 'completion_tokens_details': {'reasoning_tokens': 0}}, 'model_name': 'gpt-4o-2024-05-13', 'system_fingerprint': 'fp_25624ae3a5', 'finish_reason': 'stop', 'logprobs': None}, id='run-9ee59b7b-6834-4a63-930f-c6d8c8b16d9b-0', usage_metadata={'input_tokens': 791, 'output_tokens': 98, 'total_tokens': 889})]}\n"
     ]
    }
   ],
   "source": [
    "messages = [HumanMessage(\"What is the weather like in Taranto?\")]\n",
    "thread = {\"configurable\": {\"thread_id\": \"2\"}}\n",
    "\n",
    "for event in ag_control.graph.stream({\"messages\": messages}, thread):\n",
    "    for v in event.values():\n",
    "        print(v)\n",
    "\n",
    "while ag_control.graph.get_state(thread).next:\n",
    "    print(\"\\n\", ag_control.graph.get_state(thread),\"\\n\")\n",
    "    _input = input(\"proceed?\")\n",
    "    if _input != \"y\":\n",
    "        print(\"aborting\")\n",
    "        break\n",
    "    for event in ag_control.graph.stream(None, thread):\n",
    "        for v in event.values():\n",
    "            print(v)"
   ]
  },
  {
   "cell_type": "markdown",
   "id": "f45e9fcf-2d1f-493f-8143-6468010ee321",
   "metadata": {},
   "source": [
    "### Update state"
   ]
  },
  {
   "cell_type": "code",
   "execution_count": 27,
   "id": "1b8ddc50-1bc4-4ce5-aac0-ed6841f861ec",
   "metadata": {},
   "outputs": [
    {
     "name": "stdout",
     "output_type": "stream",
     "text": [
      "{'messages': [HumanMessage(content='What is the weather like in Taranto?', additional_kwargs={}, response_metadata={}), AIMessage(content='', additional_kwargs={'tool_calls': [{'id': 'call_2hzL02paQtiKyjVCRpXpY9B4', 'function': {'arguments': '{\"query\":\"current weather in Taranto\"}', 'name': 'tavily_search_results_json'}, 'type': 'function'}], 'refusal': None}, response_metadata={'token_usage': {'completion_tokens': 22, 'prompt_tokens': 159, 'total_tokens': 181, 'completion_tokens_details': {'reasoning_tokens': 0}}, 'model_name': 'gpt-4o-2024-05-13', 'system_fingerprint': 'fp_25624ae3a5', 'finish_reason': 'tool_calls', 'logprobs': None}, id='run-9990e040-dd60-485f-b320-7d5dc5dec014-0', tool_calls=[{'name': 'tavily_search_results_json', 'args': {'query': 'current weather in Taranto'}, 'id': 'call_2hzL02paQtiKyjVCRpXpY9B4', 'type': 'tool_call'}], usage_metadata={'input_tokens': 159, 'output_tokens': 22, 'total_tokens': 181})]}\n",
      "{'messages': [AIMessage(content='', additional_kwargs={'tool_calls': [{'id': 'call_2hzL02paQtiKyjVCRpXpY9B4', 'function': {'arguments': '{\"query\":\"current weather in Taranto\"}', 'name': 'tavily_search_results_json'}, 'type': 'function'}], 'refusal': None}, response_metadata={'token_usage': {'completion_tokens': 22, 'prompt_tokens': 159, 'total_tokens': 181, 'completion_tokens_details': {'reasoning_tokens': 0}}, 'model_name': 'gpt-4o-2024-05-13', 'system_fingerprint': 'fp_25624ae3a5', 'finish_reason': 'tool_calls', 'logprobs': None}, id='run-9990e040-dd60-485f-b320-7d5dc5dec014-0', tool_calls=[{'name': 'tavily_search_results_json', 'args': {'query': 'current weather in Taranto'}, 'id': 'call_2hzL02paQtiKyjVCRpXpY9B4', 'type': 'tool_call'}], usage_metadata={'input_tokens': 159, 'output_tokens': 22, 'total_tokens': 181})]}\n"
     ]
    }
   ],
   "source": [
    "messages = [HumanMessage(\"What is the weather like in Taranto?\")]\n",
    "thread = {\"configurable\": {\"thread_id\": \"3\"}}\n",
    "for event in ag_control.graph.stream({\"messages\": messages}, thread):\n",
    "    for v in event.values():\n",
    "        print(v)"
   ]
  },
  {
   "cell_type": "code",
   "execution_count": 28,
   "id": "8a7cb022-c3a4-4c43-aba5-615de2ffd006",
   "metadata": {},
   "outputs": [],
   "source": [
    "current_values = ag_control.graph.get_state(thread)"
   ]
  },
  {
   "cell_type": "code",
   "execution_count": 29,
   "id": "45ec585e-0bfe-42e5-a557-e79af80e3047",
   "metadata": {},
   "outputs": [
    {
     "data": {
      "text/plain": [
       "AIMessage(content='', additional_kwargs={'tool_calls': [{'id': 'call_2hzL02paQtiKyjVCRpXpY9B4', 'function': {'arguments': '{\"query\":\"current weather in Taranto\"}', 'name': 'tavily_search_results_json'}, 'type': 'function'}], 'refusal': None}, response_metadata={'token_usage': {'completion_tokens': 22, 'prompt_tokens': 159, 'total_tokens': 181, 'completion_tokens_details': {'reasoning_tokens': 0}}, 'model_name': 'gpt-4o-2024-05-13', 'system_fingerprint': 'fp_25624ae3a5', 'finish_reason': 'tool_calls', 'logprobs': None}, id='run-9990e040-dd60-485f-b320-7d5dc5dec014-0', tool_calls=[{'name': 'tavily_search_results_json', 'args': {'query': 'current weather in Taranto'}, 'id': 'call_2hzL02paQtiKyjVCRpXpY9B4', 'type': 'tool_call'}], usage_metadata={'input_tokens': 159, 'output_tokens': 22, 'total_tokens': 181})"
      ]
     },
     "execution_count": 29,
     "metadata": {},
     "output_type": "execute_result"
    }
   ],
   "source": [
    "current_values.values['messages'][-1]"
   ]
  },
  {
   "cell_type": "code",
   "execution_count": 30,
   "id": "fdf9c1bd-8ac0-40ea-a1c7-a691955f6f55",
   "metadata": {},
   "outputs": [
    {
     "data": {
      "text/plain": [
       "[{'name': 'tavily_search_results_json',\n",
       "  'args': {'query': 'current weather in Taranto'},\n",
       "  'id': 'call_2hzL02paQtiKyjVCRpXpY9B4',\n",
       "  'type': 'tool_call'}]"
      ]
     },
     "execution_count": 30,
     "metadata": {},
     "output_type": "execute_result"
    }
   ],
   "source": [
    "current_values.values['messages'][-1].tool_calls"
   ]
  },
  {
   "cell_type": "code",
   "execution_count": 31,
   "id": "e5abd162-d4c6-478e-a87a-030d2f3b00dc",
   "metadata": {},
   "outputs": [],
   "source": [
    "_id = current_values.values['messages'][-1].tool_calls[0]['id']\n",
    "current_values.values['messages'][-1].tool_calls = [\n",
    "    {'name': 'tavily_search_results_json',\n",
    "  'args': {'query': 'current weather in Bari'},\n",
    "  'id': _id,  'type': 'tool_call'}\n",
    "]"
   ]
  },
  {
   "cell_type": "code",
   "execution_count": 32,
   "id": "3800ae8f-6c83-4bbd-b5fd-897b5c2cefdd",
   "metadata": {},
   "outputs": [
    {
     "data": {
      "text/plain": [
       "[{'name': 'tavily_search_results_json',\n",
       "  'args': {'query': 'current weather in Bari'},\n",
       "  'id': 'call_2hzL02paQtiKyjVCRpXpY9B4',\n",
       "  'type': 'tool_call'}]"
      ]
     },
     "execution_count": 32,
     "metadata": {},
     "output_type": "execute_result"
    }
   ],
   "source": [
    "current_values.values['messages'][-1].tool_calls"
   ]
  },
  {
   "cell_type": "code",
   "execution_count": 33,
   "id": "16997b7e-190f-4702-9fcb-bff7a46e1afd",
   "metadata": {},
   "outputs": [
    {
     "name": "stdout",
     "output_type": "stream",
     "text": [
      "{'messages': [HumanMessage(content='What is the weather like in Taranto?', additional_kwargs={}, response_metadata={}), AIMessage(content='', additional_kwargs={'tool_calls': [{'id': 'call_2hzL02paQtiKyjVCRpXpY9B4', 'function': {'arguments': '{\"query\":\"current weather in Taranto\"}', 'name': 'tavily_search_results_json'}, 'type': 'function'}], 'refusal': None}, response_metadata={'token_usage': {'completion_tokens': 22, 'prompt_tokens': 159, 'total_tokens': 181, 'completion_tokens_details': {'reasoning_tokens': 0}}, 'model_name': 'gpt-4o-2024-05-13', 'system_fingerprint': 'fp_25624ae3a5', 'finish_reason': 'tool_calls', 'logprobs': None}, id='run-9990e040-dd60-485f-b320-7d5dc5dec014-0', tool_calls=[{'name': 'tavily_search_results_json', 'args': {'query': 'current weather in Taranto'}, 'id': 'call_2hzL02paQtiKyjVCRpXpY9B4', 'type': 'tool_call'}], usage_metadata={'input_tokens': 159, 'output_tokens': 22, 'total_tokens': 181}), HumanMessage(content='What is the weather like in Taranto?', additional_kwargs={}, response_metadata={}), AIMessage(content='', additional_kwargs={'tool_calls': [{'id': 'call_2hzL02paQtiKyjVCRpXpY9B4', 'function': {'arguments': '{\"query\":\"current weather in Taranto\"}', 'name': 'tavily_search_results_json'}, 'type': 'function'}], 'refusal': None}, response_metadata={'token_usage': {'completion_tokens': 22, 'prompt_tokens': 159, 'total_tokens': 181, 'completion_tokens_details': {'reasoning_tokens': 0}}, 'model_name': 'gpt-4o-2024-05-13', 'system_fingerprint': 'fp_25624ae3a5', 'finish_reason': 'tool_calls', 'logprobs': None}, id='run-9990e040-dd60-485f-b320-7d5dc5dec014-0', tool_calls=[{'name': 'tavily_search_results_json', 'args': {'query': 'current weather in Bari'}, 'id': 'call_2hzL02paQtiKyjVCRpXpY9B4', 'type': 'tool_call'}], usage_metadata={'input_tokens': 159, 'output_tokens': 22, 'total_tokens': 181})]}\n"
     ]
    },
    {
     "data": {
      "text/plain": [
       "{'configurable': {'thread_id': '3',\n",
       "  'checkpoint_ns': '',\n",
       "  'checkpoint_id': '1ef73ff5-2e5a-6cfe-8002-422612567c52'}}"
      ]
     },
     "execution_count": 33,
     "metadata": {},
     "output_type": "execute_result"
    }
   ],
   "source": [
    "ag_control.graph.update_state(thread, current_values.values)"
   ]
  },
  {
   "cell_type": "code",
   "execution_count": 34,
   "id": "ba8a2910-7996-401e-bf43-64ade509edc5",
   "metadata": {},
   "outputs": [
    {
     "data": {
      "text/plain": [
       "StateSnapshot(values={'messages': [HumanMessage(content='What is the weather like in Taranto?', additional_kwargs={}, response_metadata={}), AIMessage(content='', additional_kwargs={'tool_calls': [{'id': 'call_2hzL02paQtiKyjVCRpXpY9B4', 'function': {'arguments': '{\"query\":\"current weather in Taranto\"}', 'name': 'tavily_search_results_json'}, 'type': 'function'}], 'refusal': None}, response_metadata={'token_usage': {'completion_tokens': 22, 'prompt_tokens': 159, 'total_tokens': 181, 'completion_tokens_details': {'reasoning_tokens': 0}}, 'model_name': 'gpt-4o-2024-05-13', 'system_fingerprint': 'fp_25624ae3a5', 'finish_reason': 'tool_calls', 'logprobs': None}, id='run-9990e040-dd60-485f-b320-7d5dc5dec014-0', tool_calls=[{'name': 'tavily_search_results_json', 'args': {'query': 'current weather in Taranto'}, 'id': 'call_2hzL02paQtiKyjVCRpXpY9B4', 'type': 'tool_call'}], usage_metadata={'input_tokens': 159, 'output_tokens': 22, 'total_tokens': 181}), HumanMessage(content='What is the weather like in Taranto?', additional_kwargs={}, response_metadata={}), AIMessage(content='', additional_kwargs={'tool_calls': [{'id': 'call_2hzL02paQtiKyjVCRpXpY9B4', 'function': {'arguments': '{\"query\":\"current weather in Taranto\"}', 'name': 'tavily_search_results_json'}, 'type': 'function'}], 'refusal': None}, response_metadata={'token_usage': {'completion_tokens': 22, 'prompt_tokens': 159, 'total_tokens': 181, 'completion_tokens_details': {'reasoning_tokens': 0}}, 'model_name': 'gpt-4o-2024-05-13', 'system_fingerprint': 'fp_25624ae3a5', 'finish_reason': 'tool_calls', 'logprobs': None}, id='run-9990e040-dd60-485f-b320-7d5dc5dec014-0', tool_calls=[{'name': 'tavily_search_results_json', 'args': {'query': 'current weather in Bari'}, 'id': 'call_2hzL02paQtiKyjVCRpXpY9B4', 'type': 'tool_call'}], usage_metadata={'input_tokens': 159, 'output_tokens': 22, 'total_tokens': 181})]}, next=('action',), config={'configurable': {'thread_id': '3', 'checkpoint_ns': '', 'checkpoint_id': '1ef73ff5-2e5a-6cfe-8002-422612567c52'}}, metadata={'source': 'update', 'step': 2, 'writes': {'llm': {'messages': [HumanMessage(content='What is the weather like in Taranto?', additional_kwargs={}, response_metadata={}), AIMessage(content='', additional_kwargs={'tool_calls': [{'id': 'call_2hzL02paQtiKyjVCRpXpY9B4', 'function': {'arguments': '{\"query\":\"current weather in Taranto\"}', 'name': 'tavily_search_results_json'}, 'type': 'function'}], 'refusal': None}, response_metadata={'token_usage': {'completion_tokens': 22, 'prompt_tokens': 159, 'total_tokens': 181, 'completion_tokens_details': {'reasoning_tokens': 0}}, 'model_name': 'gpt-4o-2024-05-13', 'system_fingerprint': 'fp_25624ae3a5', 'finish_reason': 'tool_calls', 'logprobs': None}, id='run-9990e040-dd60-485f-b320-7d5dc5dec014-0', tool_calls=[{'name': 'tavily_search_results_json', 'args': {'query': 'current weather in Bari'}, 'id': 'call_2hzL02paQtiKyjVCRpXpY9B4', 'type': 'tool_call'}], usage_metadata={'input_tokens': 159, 'output_tokens': 22, 'total_tokens': 181})]}}, 'parents': {}}, created_at='2024-09-16T07:43:11.641318+00:00', parent_config={'configurable': {'thread_id': '3', 'checkpoint_ns': '', 'checkpoint_id': '1ef73ff5-2c17-6a10-8001-60074b7addeb'}}, tasks=(PregelTask(id='859511c4-6721-760f-eaca-9bd4ebdc39a3', name='action', path=('__pregel_pull', 'action'), error=None, interrupts=(), state=None),))"
      ]
     },
     "execution_count": 34,
     "metadata": {},
     "output_type": "execute_result"
    }
   ],
   "source": [
    "ag_control.graph.get_state(thread)"
   ]
  },
  {
   "cell_type": "code",
   "execution_count": null,
   "id": "824b16f7-f16d-4a5e-85b4-49310c7690cb",
   "metadata": {},
   "outputs": [],
   "source": [
    "for event in ag_control.graph.stream(None, thread):\n",
    "    for v in event.values():\n",
    "        print(v)"
   ]
  },
  {
   "cell_type": "code",
   "execution_count": null,
   "id": "ecaea22d-a8f7-4f72-9505-380f0ba1b974",
   "metadata": {},
   "outputs": [],
   "source": []
  }
 ],
 "metadata": {
  "kernelspec": {
   "display_name": "Python 3 (ipykernel)",
   "language": "python",
   "name": "python3"
  },
  "language_info": {
   "codemirror_mode": {
    "name": "ipython",
    "version": 3
   },
   "file_extension": ".py",
   "mimetype": "text/x-python",
   "name": "python",
   "nbconvert_exporter": "python",
   "pygments_lexer": "ipython3",
   "version": "3.10.14"
  }
 },
 "nbformat": 4,
 "nbformat_minor": 5
}
