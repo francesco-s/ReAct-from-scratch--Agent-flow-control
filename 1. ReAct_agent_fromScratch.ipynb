{
 "cells": [
  {
   "cell_type": "code",
   "execution_count": 1,
   "id": "f978837f-8972-4b01-8d38-18edd550ad9b",
   "metadata": {},
   "outputs": [],
   "source": [
    "import re\n",
    "import os\n",
    "from dotenv import load_dotenv\n",
    "\n",
    "_ = load_dotenv()\n",
    "from openai import OpenAI"
   ]
  },
  {
   "cell_type": "markdown",
   "id": "8508d6da-f794-4d69-a60f-d5d3f236690b",
   "metadata": {},
   "source": [
    "##### Check connection to OpenAI "
   ]
  },
  {
   "cell_type": "code",
   "execution_count": 2,
   "id": "10421237-568b-4ac0-b790-a16da85ab8bf",
   "metadata": {},
   "outputs": [],
   "source": [
    "client = OpenAI()"
   ]
  },
  {
   "cell_type": "code",
   "execution_count": 3,
   "id": "15540cb0-3299-4ec8-a9b2-a298028ab7a9",
   "metadata": {},
   "outputs": [
    {
     "data": {
      "text/plain": [
       "'Hello! How are you today?'"
      ]
     },
     "execution_count": 3,
     "metadata": {},
     "output_type": "execute_result"
    }
   ],
   "source": [
    "chat_completion = client.chat.completions.create(\n",
    "    model=\"gpt-3.5-turbo\",\n",
    "    messages=[{\"role\": \"user\", \"content\": \"Hello world\"}]\n",
    ")\n",
    "chat_completion.choices[0].message.content"
   ]
  },
  {
   "cell_type": "markdown",
   "id": "76f5c96b-7f40-4070-a119-59700a2855fb",
   "metadata": {},
   "source": [
    "### Define Agent class"
   ]
  },
  {
   "cell_type": "code",
   "execution_count": 4,
   "id": "79b2dd94-e902-4d16-8b56-146c61b8a0fe",
   "metadata": {},
   "outputs": [],
   "source": [
    "class Agent:\n",
    "    def __init__(self, system=\"\"):\n",
    "        self.system = system\n",
    "        self.messages = []\n",
    "        if self.system:\n",
    "            self.messages.append({\"role\": \"system\", \"content\": system})\n",
    "\n",
    "    def __call__(self, message):\n",
    "        self.messages.append({\"role\": \"user\", \"content\": message})\n",
    "        result = self.execute()\n",
    "        self.messages.append({\"role\": \"assistant\", \"content\": result})\n",
    "        return result\n",
    "\n",
    "    def execute(self):\n",
    "        completion = client.chat.completions.create(\n",
    "                        model=\"gpt-4o\", \n",
    "                        temperature=0,\n",
    "                        messages=self.messages)\n",
    "        return completion.choices[0].message.content\n",
    "    "
   ]
  },
  {
   "cell_type": "markdown",
   "id": "a29a4c44-8dc0-4665-a67d-92a07d049281",
   "metadata": {},
   "source": [
    "### Define ReAct prompt"
   ]
  },
  {
   "cell_type": "code",
   "execution_count": 5,
   "id": "395e112a-e58b-4c44-bac5-d4a5d187fb17",
   "metadata": {},
   "outputs": [
    {
     "data": {
      "text/plain": [
       "'You run in a loop of Thought, Action, PAUSE, Observation.\\nAt the end of the loop you output an Answer\\nUse Thought to describe your thoughts about the question you have been asked.\\nUse Action to run one of the actions available to you - then return PAUSE.\\nObservation will be the result of running those actions.\\n\\nYour available actions are:\\n\\ncalculate:\\ne.g. calculate: 4 * 7 / 3\\nRuns a calculation and returns the number - uses Python so be sure to use floating point syntax if necessary\\n\\naverage_italian_salary:\\ne.g. average_dog_weight: lawyer\\nreturns the average Italian salary when a job title is given\\n\\nExample session:\\n\\nQuestion: How much does a dentist earn in Italy?\\nThought: I should look the average italian salary using average_italian_salary\\nAction: average_dog_weight: dentist\\nPAUSE\\n\\nYou will be called again with this:\\n\\nObservation: A dentist earns on average 80,000 euros per year in Italy\\n\\nYou then output:\\n\\nAnswer: A dentist earns 80,000 euros per year in Italy'"
      ]
     },
     "execution_count": 5,
     "metadata": {},
     "output_type": "execute_result"
    }
   ],
   "source": [
    "prompt = \"\"\"\n",
    "You run in a loop of Thought, Action, PAUSE, Observation.\n",
    "At the end of the loop you output an Answer\n",
    "Use Thought to describe your thoughts about the question you have been asked.\n",
    "Use Action to run one of the actions available to you - then return PAUSE.\n",
    "Observation will be the result of running those actions.\n",
    "\n",
    "Your available actions are:\n",
    "\n",
    "calculate:\n",
    "e.g. calculate: 4 * 7 / 3\n",
    "Runs a calculation and returns the number - uses Python so be sure to use floating point syntax if necessary\n",
    "\n",
    "average_italian_salary:\n",
    "e.g. average_dog_weight: lawyer\n",
    "returns the average Italian salary when a job title is given\n",
    "\n",
    "Example session:\n",
    "\n",
    "Question: How much does a dentist earn in Italy?\n",
    "Thought: I should look the average italian salary using average_italian_salary\n",
    "Action: average_dog_weight: dentist\n",
    "PAUSE\n",
    "\n",
    "You will be called again with this:\n",
    "\n",
    "Observation: A dentist earns on average 80,000 euros per year in Italy\n",
    "\n",
    "You then output:\n",
    "\n",
    "Answer: A dentist earns 80,000 euros per year in Italy\n",
    "\"\"\".strip()\n",
    "\n",
    "prompt"
   ]
  },
  {
   "cell_type": "markdown",
   "id": "00f78105-8afc-4738-8c16-5fdd4245e39e",
   "metadata": {},
   "source": [
    "### Define Actions"
   ]
  },
  {
   "cell_type": "code",
   "execution_count": 6,
   "id": "f5cb74e2-26f7-4e1e-937d-4b9c634acbfd",
   "metadata": {},
   "outputs": [],
   "source": [
    "def calculate(what):\n",
    "    return eval(what)\n",
    "\n",
    "def average_italian_salary(job):\n",
    "    if job in \"lawyer\": \n",
    "        return(\"a lawyer earns on average 80,000 euros\")\n",
    "    elif job in \"architect\":\n",
    "        return(\"an architect earns on average 40,000 euros\")\n",
    "    elif job in \"software engineer\":\n",
    "        return(\"a software engineer earns on average 50,000 euros\")\n",
    "    else:\n",
    "        return(\"a worker in Italy earns on average 30,000 a year\")\n",
    "\n",
    "known_actions = {\n",
    "    \"calculate\": calculate,\n",
    "    \"average_italian_salary\": average_italian_salary\n",
    "}"
   ]
  },
  {
   "cell_type": "markdown",
   "id": "a7d6acbb-a0a6-408b-8e3f-a0583c49ee34",
   "metadata": {},
   "source": [
    "### Step by step reasoning"
   ]
  },
  {
   "cell_type": "markdown",
   "id": "b022b744-d0f3-41c4-a094-79cb4ffdf3ee",
   "metadata": {},
   "source": [
    "#### Example 1"
   ]
  },
  {
   "cell_type": "code",
   "execution_count": 7,
   "id": "ef67484a-415f-4dce-849e-f8c71881753f",
   "metadata": {},
   "outputs": [],
   "source": [
    "ag = Agent(prompt)\n",
    "result = ag(\"How much does an architect earn in Italy?\")"
   ]
  },
  {
   "cell_type": "code",
   "execution_count": 8,
   "id": "dbe63759-2611-4249-9b3a-715e0dd510c8",
   "metadata": {},
   "outputs": [
    {
     "name": "stdout",
     "output_type": "stream",
     "text": [
      "Thought: I should look up the average Italian salary for an architect using the available action.\n",
      "Action: average_italian_salary: architect\n",
      "PAUSE\n"
     ]
    }
   ],
   "source": [
    "print(result)"
   ]
  },
  {
   "cell_type": "code",
   "execution_count": 9,
   "id": "c0c0e5b6-36dc-4aac-88eb-2769f204ab91",
   "metadata": {},
   "outputs": [
    {
     "data": {
      "text/plain": [
       "'an architect earns on average 40,000 euros'"
      ]
     },
     "execution_count": 9,
     "metadata": {},
     "output_type": "execute_result"
    }
   ],
   "source": [
    "result = average_italian_salary(\"architect\")\n",
    "result"
   ]
  },
  {
   "cell_type": "code",
   "execution_count": 10,
   "id": "b9a9be6f-bfdf-4542-be25-8a62532bf5b5",
   "metadata": {},
   "outputs": [
    {
     "data": {
      "text/plain": [
       "'Observation: an architect earns on average 40,000 euros'"
      ]
     },
     "execution_count": 10,
     "metadata": {},
     "output_type": "execute_result"
    }
   ],
   "source": [
    "next_prompt = \"Observation: {}\".format(result)\n",
    "next_prompt"
   ]
  },
  {
   "cell_type": "code",
   "execution_count": 11,
   "id": "f477d442-6c06-4488-9901-6ab550ca4c4c",
   "metadata": {},
   "outputs": [
    {
     "data": {
      "text/plain": [
       "[{'role': 'system',\n",
       "  'content': 'You run in a loop of Thought, Action, PAUSE, Observation.\\nAt the end of the loop you output an Answer\\nUse Thought to describe your thoughts about the question you have been asked.\\nUse Action to run one of the actions available to you - then return PAUSE.\\nObservation will be the result of running those actions.\\n\\nYour available actions are:\\n\\ncalculate:\\ne.g. calculate: 4 * 7 / 3\\nRuns a calculation and returns the number - uses Python so be sure to use floating point syntax if necessary\\n\\naverage_italian_salary:\\ne.g. average_dog_weight: lawyer\\nreturns the average Italian salary when a job title is given\\n\\nExample session:\\n\\nQuestion: How much does a dentist earn in Italy?\\nThought: I should look the average italian salary using average_italian_salary\\nAction: average_dog_weight: dentist\\nPAUSE\\n\\nYou will be called again with this:\\n\\nObservation: A dentist earns on average 80,000 euros per year in Italy\\n\\nYou then output:\\n\\nAnswer: A dentist earns 80,000 euros per year in Italy'},\n",
       " {'role': 'user', 'content': 'How much does an architect earn in Italy?'},\n",
       " {'role': 'assistant',\n",
       "  'content': 'Thought: I should look up the average Italian salary for an architect using the available action.\\nAction: average_italian_salary: architect\\nPAUSE'}]"
      ]
     },
     "execution_count": 11,
     "metadata": {},
     "output_type": "execute_result"
    }
   ],
   "source": [
    "ag.messages"
   ]
  },
  {
   "cell_type": "code",
   "execution_count": 12,
   "id": "8da55e26-2f34-4da7-a712-9bb551785368",
   "metadata": {},
   "outputs": [
    {
     "data": {
      "text/plain": [
       "'Answer: An architect earns on average 40,000 euros per year in Italy.'"
      ]
     },
     "execution_count": 12,
     "metadata": {},
     "output_type": "execute_result"
    }
   ],
   "source": [
    "ag(next_prompt)"
   ]
  },
  {
   "cell_type": "code",
   "execution_count": 13,
   "id": "659cd7a8-6822-455b-91a9-906e709194a9",
   "metadata": {},
   "outputs": [
    {
     "data": {
      "text/plain": [
       "[{'role': 'system',\n",
       "  'content': 'You run in a loop of Thought, Action, PAUSE, Observation.\\nAt the end of the loop you output an Answer\\nUse Thought to describe your thoughts about the question you have been asked.\\nUse Action to run one of the actions available to you - then return PAUSE.\\nObservation will be the result of running those actions.\\n\\nYour available actions are:\\n\\ncalculate:\\ne.g. calculate: 4 * 7 / 3\\nRuns a calculation and returns the number - uses Python so be sure to use floating point syntax if necessary\\n\\naverage_italian_salary:\\ne.g. average_dog_weight: lawyer\\nreturns the average Italian salary when a job title is given\\n\\nExample session:\\n\\nQuestion: How much does a dentist earn in Italy?\\nThought: I should look the average italian salary using average_italian_salary\\nAction: average_dog_weight: dentist\\nPAUSE\\n\\nYou will be called again with this:\\n\\nObservation: A dentist earns on average 80,000 euros per year in Italy\\n\\nYou then output:\\n\\nAnswer: A dentist earns 80,000 euros per year in Italy'},\n",
       " {'role': 'user', 'content': 'How much does an architect earn in Italy?'},\n",
       " {'role': 'assistant',\n",
       "  'content': 'Thought: I should look up the average Italian salary for an architect using the available action.\\nAction: average_italian_salary: architect\\nPAUSE'},\n",
       " {'role': 'user',\n",
       "  'content': 'Observation: an architect earns on average 40,000 euros'},\n",
       " {'role': 'assistant',\n",
       "  'content': 'Answer: An architect earns on average 40,000 euros per year in Italy.'}]"
      ]
     },
     "execution_count": 13,
     "metadata": {},
     "output_type": "execute_result"
    }
   ],
   "source": [
    "ag.messages"
   ]
  },
  {
   "cell_type": "markdown",
   "id": "4a99a6d0-b822-4aaf-9a30-85c54fe37ce4",
   "metadata": {},
   "source": [
    "#### Example 2"
   ]
  },
  {
   "cell_type": "code",
   "execution_count": 14,
   "id": "0d97572b-c046-4328-bd6b-7d00ed006c7b",
   "metadata": {},
   "outputs": [],
   "source": [
    "ag = Agent(prompt)\n",
    "question = \"\"\"An engaged couple is an architect and a lawyer. On average, how much do they earn together?\"\"\"\n",
    "result = ag(question)"
   ]
  },
  {
   "cell_type": "code",
   "execution_count": 15,
   "id": "11f6fbf7-695b-429c-9d63-e39b976f5488",
   "metadata": {},
   "outputs": [
    {
     "name": "stdout",
     "output_type": "stream",
     "text": [
      "Thought: I need to find the average Italian salary for both an architect and a lawyer, then sum these amounts to determine their combined earnings.\n",
      "Action: average_italian_salary: architect\n",
      "PAUSE\n"
     ]
    }
   ],
   "source": [
    "print(result)"
   ]
  },
  {
   "cell_type": "code",
   "execution_count": 16,
   "id": "12a8a83c-0dd7-4ddc-82bc-b61ce96daf63",
   "metadata": {},
   "outputs": [
    {
     "name": "stdout",
     "output_type": "stream",
     "text": [
      "Observation: an architect earns on average 40,000 euros\n"
     ]
    }
   ],
   "source": [
    "next_prompt = \"Observation: {}\".format(average_italian_salary(\"architect\"))\n",
    "print(next_prompt)"
   ]
  },
  {
   "cell_type": "code",
   "execution_count": 17,
   "id": "e1ca4c85-22c3-49a1-8666-ea4e7cbb7f91",
   "metadata": {},
   "outputs": [
    {
     "name": "stdout",
     "output_type": "stream",
     "text": [
      "Thought: Now I need to find the average Italian salary for a lawyer.\n",
      "Action: average_italian_salary: lawyer\n",
      "PAUSE\n"
     ]
    }
   ],
   "source": [
    "result = ag(next_prompt)\n",
    "print(result)"
   ]
  },
  {
   "cell_type": "code",
   "execution_count": 18,
   "id": "daaee325-3403-41c0-bc8c-a21277075632",
   "metadata": {},
   "outputs": [
    {
     "name": "stdout",
     "output_type": "stream",
     "text": [
      "Observation: a lawyer earns on average 80,000 euros\n"
     ]
    }
   ],
   "source": [
    "next_prompt = \"Observation: {}\".format(average_italian_salary(\"lawyer\"))\n",
    "print(next_prompt)"
   ]
  },
  {
   "cell_type": "code",
   "execution_count": 19,
   "id": "eeb73060-f8f9-41fc-8a0a-31562c8392cf",
   "metadata": {},
   "outputs": [
    {
     "name": "stdout",
     "output_type": "stream",
     "text": [
      "Thought: I now have the average salaries for both an architect (40,000 euros) and a lawyer (80,000 euros). I need to sum these amounts to find their combined earnings.\n",
      "Action: calculate: 40000 + 80000\n",
      "PAUSE\n"
     ]
    }
   ],
   "source": [
    "result = ag(next_prompt)\n",
    "print(result)"
   ]
  },
  {
   "cell_type": "code",
   "execution_count": 20,
   "id": "5a260f34-1e4e-472c-b5ec-afc80c9f22f6",
   "metadata": {},
   "outputs": [
    {
     "name": "stdout",
     "output_type": "stream",
     "text": [
      "Observation: 120000\n"
     ]
    }
   ],
   "source": [
    "next_prompt = \"Observation: {}\".format(eval(\"40000 + 80000\"))\n",
    "print(next_prompt)"
   ]
  },
  {
   "cell_type": "code",
   "execution_count": 21,
   "id": "e373be2d-b421-4603-9abe-45c919c0357f",
   "metadata": {},
   "outputs": [
    {
     "name": "stdout",
     "output_type": "stream",
     "text": [
      "Answer: Together, an architect and a lawyer earn on average 120,000 euros per year in Italy.\n"
     ]
    }
   ],
   "source": [
    "result = ag(next_prompt)\n",
    "print(result)"
   ]
  },
  {
   "cell_type": "markdown",
   "id": "99af7293-6a88-4bef-9328-0dc9d03b88e4",
   "metadata": {},
   "source": [
    "### Implementation with a loop"
   ]
  },
  {
   "cell_type": "code",
   "execution_count": 22,
   "id": "b43603b3-5f35-440f-9f3e-b58a5c45be08",
   "metadata": {},
   "outputs": [],
   "source": [
    "action_re = re.compile('^Action: (\\w+): (.*)$')"
   ]
  },
  {
   "cell_type": "code",
   "execution_count": 23,
   "id": "b6a8dfa2-98e9-4700-aa60-d8c993ef0510",
   "metadata": {},
   "outputs": [],
   "source": [
    "def query(question, max_turns=5):\n",
    "    i = 0\n",
    "    bot = Agent(prompt)\n",
    "    next_prompt = question\n",
    "    while i < max_turns:\n",
    "        i += 1\n",
    "        result = bot(next_prompt)\n",
    "        print(result)\n",
    "        actions = [\n",
    "            action_re.match(a) \n",
    "            for a in result.split('\\n') \n",
    "            if action_re.match(a)\n",
    "        ]\n",
    "        if actions:\n",
    "            action, action_input = actions[0].groups()\n",
    "            if action not in known_actions:\n",
    "                raise Exception(\"Unknown action: {}: {}\".format(action, action_input))\n",
    "            print(\" -- running {} {}\".format(action, action_input))\n",
    "            observation = known_actions[action](action_input)\n",
    "            print(\"Observation:\", observation)\n",
    "            next_prompt = \"Observation: {}\".format(observation)\n",
    "        else:\n",
    "            return"
   ]
  },
  {
   "cell_type": "code",
   "execution_count": 24,
   "id": "0d23c84a-ec95-44e8-89ee-221631ce6e64",
   "metadata": {},
   "outputs": [
    {
     "name": "stdout",
     "output_type": "stream",
     "text": [
      "Thought: I need to find the average salaries for both an architect and a lawyer in Italy and then sum them up to get their combined earnings.\n",
      "Action: average_italian_salary: architect\n",
      "PAUSE\n",
      " -- running average_italian_salary architect\n",
      "Observation: an architect earns on average 40,000 euros\n",
      "Thought: Now I need to find the average salary for a lawyer in Italy.\n",
      "Action: average_italian_salary: lawyer\n",
      "PAUSE\n",
      " -- running average_italian_salary lawyer\n",
      "Observation: a lawyer earns on average 80,000 euros\n",
      "Thought: I now have the average salaries for both an architect (40,000 euros) and a lawyer (80,000 euros). I need to sum these amounts to find their combined earnings.\n",
      "Action: calculate: 40000 + 80000\n",
      "PAUSE\n",
      " -- running calculate 40000 + 80000\n",
      "Observation: 120000\n",
      "Answer: An engaged couple consisting of an architect and a lawyer earns on average 120,000 euros per year together in Italy.\n"
     ]
    }
   ],
   "source": [
    "question = \"\"\"An engaged couple is an architect and a lawyer. On average, how much do they earn together?\"\"\"\n",
    "query(question)"
   ]
  },
  {
   "cell_type": "code",
   "execution_count": null,
   "id": "25c4a318-5886-44dd-beed-99fd9ba4abe2",
   "metadata": {},
   "outputs": [],
   "source": []
  }
 ],
 "metadata": {
  "kernelspec": {
   "display_name": "Python 3 (ipykernel)",
   "language": "python",
   "name": "python3"
  },
  "language_info": {
   "codemirror_mode": {
    "name": "ipython",
    "version": 3
   },
   "file_extension": ".py",
   "mimetype": "text/x-python",
   "name": "python",
   "nbconvert_exporter": "python",
   "pygments_lexer": "ipython3",
   "version": "3.10.14"
  }
 },
 "nbformat": 4,
 "nbformat_minor": 5
}
